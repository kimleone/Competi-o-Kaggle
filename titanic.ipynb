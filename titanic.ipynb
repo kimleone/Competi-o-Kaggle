{
  "nbformat": 4,
  "nbformat_minor": 0,
  "metadata": {
    "colab": {
      "name": "titanic.ipynb",
      "provenance": [],
      "authorship_tag": "ABX9TyOSeFZlZL3ODezDBggNzDWQ",
      "include_colab_link": true
    },
    "kernelspec": {
      "name": "python3",
      "display_name": "Python 3"
    }
  },
  "cells": [
    {
      "cell_type": "markdown",
      "metadata": {
        "id": "view-in-github",
        "colab_type": "text"
      },
      "source": [
        "<a href=\"https://colab.research.google.com/github/kimleone/Competi-o-Kaggle/blob/master/titanic.ipynb\" target=\"_parent\"><img src=\"https://colab.research.google.com/assets/colab-badge.svg\" alt=\"Open In Colab\"/></a>"
      ]
    },
    {
      "cell_type": "markdown",
      "metadata": {
        "id": "GngOZ1sXyJ1X",
        "colab_type": "text"
      },
      "source": [
        "#Projeto Titanic"
      ]
    },
    {
      "cell_type": "code",
      "metadata": {
        "id": "9UPcqhB5yHWS",
        "colab_type": "code",
        "colab": {}
      },
      "source": [
        "import pandas as pd\n",
        "import numpy as np"
      ],
      "execution_count": 29,
      "outputs": []
    },
    {
      "cell_type": "code",
      "metadata": {
        "id": "_3YfdPecz7P6",
        "colab_type": "code",
        "colab": {}
      },
      "source": [
        "url1 = 'https://raw.githubusercontent.com/ricardorocha86/Datasets/master/Titanic/train.csv'\n",
        "url2 = 'https://raw.githubusercontent.com/ricardorocha86/Datasets/master/Titanic/test.csv'\n",
        "\n",
        "titanic = pd.read_csv(url1)\n",
        "teste = pd.read_csv(url2)"
      ],
      "execution_count": 30,
      "outputs": []
    },
    {
      "cell_type": "code",
      "metadata": {
        "id": "Q_VzCvaX0Vr2",
        "colab_type": "code",
        "colab": {
          "base_uri": "https://localhost:8080/",
          "height": 233
        },
        "outputId": "a6bb4967-1854-4f6a-d83a-0d160653c848"
      },
      "source": [
        "titanic.head()"
      ],
      "execution_count": 31,
      "outputs": [
        {
          "output_type": "execute_result",
          "data": {
            "text/html": [
              "<div>\n",
              "<style scoped>\n",
              "    .dataframe tbody tr th:only-of-type {\n",
              "        vertical-align: middle;\n",
              "    }\n",
              "\n",
              "    .dataframe tbody tr th {\n",
              "        vertical-align: top;\n",
              "    }\n",
              "\n",
              "    .dataframe thead th {\n",
              "        text-align: right;\n",
              "    }\n",
              "</style>\n",
              "<table border=\"1\" class=\"dataframe\">\n",
              "  <thead>\n",
              "    <tr style=\"text-align: right;\">\n",
              "      <th></th>\n",
              "      <th>PassengerId</th>\n",
              "      <th>Survived</th>\n",
              "      <th>Pclass</th>\n",
              "      <th>Name</th>\n",
              "      <th>Sex</th>\n",
              "      <th>Age</th>\n",
              "      <th>SibSp</th>\n",
              "      <th>Parch</th>\n",
              "      <th>Ticket</th>\n",
              "      <th>Fare</th>\n",
              "      <th>Cabin</th>\n",
              "      <th>Embarked</th>\n",
              "    </tr>\n",
              "  </thead>\n",
              "  <tbody>\n",
              "    <tr>\n",
              "      <th>0</th>\n",
              "      <td>1</td>\n",
              "      <td>0</td>\n",
              "      <td>3</td>\n",
              "      <td>Braund, Mr. Owen Harris</td>\n",
              "      <td>male</td>\n",
              "      <td>22.0</td>\n",
              "      <td>1</td>\n",
              "      <td>0</td>\n",
              "      <td>A/5 21171</td>\n",
              "      <td>7.2500</td>\n",
              "      <td>NaN</td>\n",
              "      <td>S</td>\n",
              "    </tr>\n",
              "    <tr>\n",
              "      <th>1</th>\n",
              "      <td>2</td>\n",
              "      <td>1</td>\n",
              "      <td>1</td>\n",
              "      <td>Cumings, Mrs. John Bradley (Florence Briggs Th...</td>\n",
              "      <td>female</td>\n",
              "      <td>38.0</td>\n",
              "      <td>1</td>\n",
              "      <td>0</td>\n",
              "      <td>PC 17599</td>\n",
              "      <td>71.2833</td>\n",
              "      <td>C85</td>\n",
              "      <td>C</td>\n",
              "    </tr>\n",
              "    <tr>\n",
              "      <th>2</th>\n",
              "      <td>3</td>\n",
              "      <td>1</td>\n",
              "      <td>3</td>\n",
              "      <td>Heikkinen, Miss. Laina</td>\n",
              "      <td>female</td>\n",
              "      <td>26.0</td>\n",
              "      <td>0</td>\n",
              "      <td>0</td>\n",
              "      <td>STON/O2. 3101282</td>\n",
              "      <td>7.9250</td>\n",
              "      <td>NaN</td>\n",
              "      <td>S</td>\n",
              "    </tr>\n",
              "    <tr>\n",
              "      <th>3</th>\n",
              "      <td>4</td>\n",
              "      <td>1</td>\n",
              "      <td>1</td>\n",
              "      <td>Futrelle, Mrs. Jacques Heath (Lily May Peel)</td>\n",
              "      <td>female</td>\n",
              "      <td>35.0</td>\n",
              "      <td>1</td>\n",
              "      <td>0</td>\n",
              "      <td>113803</td>\n",
              "      <td>53.1000</td>\n",
              "      <td>C123</td>\n",
              "      <td>S</td>\n",
              "    </tr>\n",
              "    <tr>\n",
              "      <th>4</th>\n",
              "      <td>5</td>\n",
              "      <td>0</td>\n",
              "      <td>3</td>\n",
              "      <td>Allen, Mr. William Henry</td>\n",
              "      <td>male</td>\n",
              "      <td>35.0</td>\n",
              "      <td>0</td>\n",
              "      <td>0</td>\n",
              "      <td>373450</td>\n",
              "      <td>8.0500</td>\n",
              "      <td>NaN</td>\n",
              "      <td>S</td>\n",
              "    </tr>\n",
              "  </tbody>\n",
              "</table>\n",
              "</div>"
            ],
            "text/plain": [
              "   PassengerId  Survived  Pclass  ...     Fare Cabin  Embarked\n",
              "0            1         0       3  ...   7.2500   NaN         S\n",
              "1            2         1       1  ...  71.2833   C85         C\n",
              "2            3         1       3  ...   7.9250   NaN         S\n",
              "3            4         1       1  ...  53.1000  C123         S\n",
              "4            5         0       3  ...   8.0500   NaN         S\n",
              "\n",
              "[5 rows x 12 columns]"
            ]
          },
          "metadata": {
            "tags": []
          },
          "execution_count": 31
        }
      ]
    },
    {
      "cell_type": "markdown",
      "metadata": {
        "id": "F1CtonA60s6s",
        "colab_type": "text"
      },
      "source": [
        "## Explorando os dados"
      ]
    },
    {
      "cell_type": "markdown",
      "metadata": {
        "id": "dvZiUxuW5LkG",
        "colab_type": "text"
      },
      "source": [
        "###Análise rápida"
      ]
    },
    {
      "cell_type": "code",
      "metadata": {
        "id": "oqNNbbqi0sSd",
        "colab_type": "code",
        "colab": {}
      },
      "source": [
        "!pip install sweetviz"
      ],
      "execution_count": null,
      "outputs": []
    },
    {
      "cell_type": "code",
      "metadata": {
        "id": "X2-0kcUe037_",
        "colab_type": "code",
        "colab": {}
      },
      "source": [
        "import sweetviz"
      ],
      "execution_count": null,
      "outputs": []
    },
    {
      "cell_type": "code",
      "metadata": {
        "id": "JxHUaf8706uO",
        "colab_type": "code",
        "colab": {}
      },
      "source": [
        "ae = sweetviz.compare_intra(titanic, titanic['Survived'] == 0, ['Vítima','Sobrevivente'])\n",
        "ae.show_html()"
      ],
      "execution_count": null,
      "outputs": []
    },
    {
      "cell_type": "markdown",
      "metadata": {
        "id": "AEKYRY1M5RtA",
        "colab_type": "text"
      },
      "source": [
        "###**Análise exploratória dos dados**"
      ]
    },
    {
      "cell_type": "code",
      "metadata": {
        "id": "oq33iD-JJh34",
        "colab_type": "code",
        "colab": {}
      },
      "source": [
        "#Pré-processamento básico:\n",
        "\n",
        "#lista dos datasets que iremos modificar\n",
        "datasets = [titanic,teste]\n",
        "\n",
        "#dropando  as variáveis de interesse em cada conjunto de dados\n",
        "for dataset in datasets:\n",
        "  dataset.drop(['PassengerId','Ticket','Cabin'], axis = 1 , inplace = True)"
      ],
      "execution_count": 32,
      "outputs": []
    },
    {
      "cell_type": "code",
      "metadata": {
        "id": "TDQ9V10hDkIb",
        "colab_type": "code",
        "colab": {
          "base_uri": "https://localhost:8080/",
          "height": 198
        },
        "outputId": "6dd26b1e-9d3d-431d-c1b8-d736da17a6a6"
      },
      "source": [
        "titanic.rename(columns = {'Survived': 'Sobreviventes'}, inplace = True)\n",
        "titanic.rename(columns = {'Pclass': 'Classe'}, inplace = True)\n",
        "titanic.rename(columns = {'Age':'Idade'}, inplace = True)\n",
        "titanic.rename(columns = {'SibSp': 'Familia'}, inplace = True)\n",
        "titanic.rename(columns = {'Parch' : 'Parentes'}, inplace = True)\n",
        "titanic.rename(columns = {'Fare': 'Tarifa'}, inplace = True)\n",
        "titanic.rename(columns = {'Sex': 'Sexo'}, inplace = True)\n",
        "titanic.rename(columns = {'Embarked': 'Embarque'}, inplace = True)\n",
        "titanic.rename(columns = {'Name': 'Nome'}, inplace = True)\n",
        "\n",
        "titanic.head()"
      ],
      "execution_count": 33,
      "outputs": [
        {
          "output_type": "execute_result",
          "data": {
            "text/html": [
              "<div>\n",
              "<style scoped>\n",
              "    .dataframe tbody tr th:only-of-type {\n",
              "        vertical-align: middle;\n",
              "    }\n",
              "\n",
              "    .dataframe tbody tr th {\n",
              "        vertical-align: top;\n",
              "    }\n",
              "\n",
              "    .dataframe thead th {\n",
              "        text-align: right;\n",
              "    }\n",
              "</style>\n",
              "<table border=\"1\" class=\"dataframe\">\n",
              "  <thead>\n",
              "    <tr style=\"text-align: right;\">\n",
              "      <th></th>\n",
              "      <th>Sobreviventes</th>\n",
              "      <th>Classe</th>\n",
              "      <th>Nome</th>\n",
              "      <th>Sexo</th>\n",
              "      <th>Idade</th>\n",
              "      <th>Familia</th>\n",
              "      <th>Parentes</th>\n",
              "      <th>Tarifa</th>\n",
              "      <th>Embarque</th>\n",
              "    </tr>\n",
              "  </thead>\n",
              "  <tbody>\n",
              "    <tr>\n",
              "      <th>0</th>\n",
              "      <td>0</td>\n",
              "      <td>3</td>\n",
              "      <td>Braund, Mr. Owen Harris</td>\n",
              "      <td>male</td>\n",
              "      <td>22.0</td>\n",
              "      <td>1</td>\n",
              "      <td>0</td>\n",
              "      <td>7.2500</td>\n",
              "      <td>S</td>\n",
              "    </tr>\n",
              "    <tr>\n",
              "      <th>1</th>\n",
              "      <td>1</td>\n",
              "      <td>1</td>\n",
              "      <td>Cumings, Mrs. John Bradley (Florence Briggs Th...</td>\n",
              "      <td>female</td>\n",
              "      <td>38.0</td>\n",
              "      <td>1</td>\n",
              "      <td>0</td>\n",
              "      <td>71.2833</td>\n",
              "      <td>C</td>\n",
              "    </tr>\n",
              "    <tr>\n",
              "      <th>2</th>\n",
              "      <td>1</td>\n",
              "      <td>3</td>\n",
              "      <td>Heikkinen, Miss. Laina</td>\n",
              "      <td>female</td>\n",
              "      <td>26.0</td>\n",
              "      <td>0</td>\n",
              "      <td>0</td>\n",
              "      <td>7.9250</td>\n",
              "      <td>S</td>\n",
              "    </tr>\n",
              "    <tr>\n",
              "      <th>3</th>\n",
              "      <td>1</td>\n",
              "      <td>1</td>\n",
              "      <td>Futrelle, Mrs. Jacques Heath (Lily May Peel)</td>\n",
              "      <td>female</td>\n",
              "      <td>35.0</td>\n",
              "      <td>1</td>\n",
              "      <td>0</td>\n",
              "      <td>53.1000</td>\n",
              "      <td>S</td>\n",
              "    </tr>\n",
              "    <tr>\n",
              "      <th>4</th>\n",
              "      <td>0</td>\n",
              "      <td>3</td>\n",
              "      <td>Allen, Mr. William Henry</td>\n",
              "      <td>male</td>\n",
              "      <td>35.0</td>\n",
              "      <td>0</td>\n",
              "      <td>0</td>\n",
              "      <td>8.0500</td>\n",
              "      <td>S</td>\n",
              "    </tr>\n",
              "  </tbody>\n",
              "</table>\n",
              "</div>"
            ],
            "text/plain": [
              "   Sobreviventes  Classe  ...   Tarifa Embarque\n",
              "0              0       3  ...   7.2500        S\n",
              "1              1       1  ...  71.2833        C\n",
              "2              1       3  ...   7.9250        S\n",
              "3              1       1  ...  53.1000        S\n",
              "4              0       3  ...   8.0500        S\n",
              "\n",
              "[5 rows x 9 columns]"
            ]
          },
          "metadata": {
            "tags": []
          },
          "execution_count": 33
        }
      ]
    },
    {
      "cell_type": "code",
      "metadata": {
        "id": "5hLs1tD-KrdS",
        "colab_type": "code",
        "colab": {
          "base_uri": "https://localhost:8080/",
          "height": 198
        },
        "outputId": "e2a4f616-b62b-4da0-b371-4aee7c61920b"
      },
      "source": [
        "teste.rename(columns = {'Pclass': 'Classe'}, inplace = True)\n",
        "teste.rename(columns = {'Age':'Idade'}, inplace = True)\n",
        "teste.rename(columns = {'SibSp': 'Familia'}, inplace = True)\n",
        "teste.rename(columns = {'Parch' : 'Parentes'}, inplace = True)\n",
        "teste.rename(columns = {'Fare': 'Tarifa'}, inplace = True)\n",
        "teste.rename(columns = {'Sex': 'Sexo'}, inplace = True)\n",
        "teste.rename(columns = {'Embarked': 'Embarque'}, inplace = True)\n",
        "teste.rename(columns = {'Name': 'Nome'}, inplace = True)\n",
        "\n",
        "teste.head()"
      ],
      "execution_count": 34,
      "outputs": [
        {
          "output_type": "execute_result",
          "data": {
            "text/html": [
              "<div>\n",
              "<style scoped>\n",
              "    .dataframe tbody tr th:only-of-type {\n",
              "        vertical-align: middle;\n",
              "    }\n",
              "\n",
              "    .dataframe tbody tr th {\n",
              "        vertical-align: top;\n",
              "    }\n",
              "\n",
              "    .dataframe thead th {\n",
              "        text-align: right;\n",
              "    }\n",
              "</style>\n",
              "<table border=\"1\" class=\"dataframe\">\n",
              "  <thead>\n",
              "    <tr style=\"text-align: right;\">\n",
              "      <th></th>\n",
              "      <th>Classe</th>\n",
              "      <th>Nome</th>\n",
              "      <th>Sexo</th>\n",
              "      <th>Idade</th>\n",
              "      <th>Familia</th>\n",
              "      <th>Parentes</th>\n",
              "      <th>Tarifa</th>\n",
              "      <th>Embarque</th>\n",
              "    </tr>\n",
              "  </thead>\n",
              "  <tbody>\n",
              "    <tr>\n",
              "      <th>0</th>\n",
              "      <td>3</td>\n",
              "      <td>Kelly, Mr. James</td>\n",
              "      <td>male</td>\n",
              "      <td>34.5</td>\n",
              "      <td>0</td>\n",
              "      <td>0</td>\n",
              "      <td>7.8292</td>\n",
              "      <td>Q</td>\n",
              "    </tr>\n",
              "    <tr>\n",
              "      <th>1</th>\n",
              "      <td>3</td>\n",
              "      <td>Wilkes, Mrs. James (Ellen Needs)</td>\n",
              "      <td>female</td>\n",
              "      <td>47.0</td>\n",
              "      <td>1</td>\n",
              "      <td>0</td>\n",
              "      <td>7.0000</td>\n",
              "      <td>S</td>\n",
              "    </tr>\n",
              "    <tr>\n",
              "      <th>2</th>\n",
              "      <td>2</td>\n",
              "      <td>Myles, Mr. Thomas Francis</td>\n",
              "      <td>male</td>\n",
              "      <td>62.0</td>\n",
              "      <td>0</td>\n",
              "      <td>0</td>\n",
              "      <td>9.6875</td>\n",
              "      <td>Q</td>\n",
              "    </tr>\n",
              "    <tr>\n",
              "      <th>3</th>\n",
              "      <td>3</td>\n",
              "      <td>Wirz, Mr. Albert</td>\n",
              "      <td>male</td>\n",
              "      <td>27.0</td>\n",
              "      <td>0</td>\n",
              "      <td>0</td>\n",
              "      <td>8.6625</td>\n",
              "      <td>S</td>\n",
              "    </tr>\n",
              "    <tr>\n",
              "      <th>4</th>\n",
              "      <td>3</td>\n",
              "      <td>Hirvonen, Mrs. Alexander (Helga E Lindqvist)</td>\n",
              "      <td>female</td>\n",
              "      <td>22.0</td>\n",
              "      <td>1</td>\n",
              "      <td>1</td>\n",
              "      <td>12.2875</td>\n",
              "      <td>S</td>\n",
              "    </tr>\n",
              "  </tbody>\n",
              "</table>\n",
              "</div>"
            ],
            "text/plain": [
              "   Classe                                          Nome  ...   Tarifa  Embarque\n",
              "0       3                              Kelly, Mr. James  ...   7.8292         Q\n",
              "1       3              Wilkes, Mrs. James (Ellen Needs)  ...   7.0000         S\n",
              "2       2                     Myles, Mr. Thomas Francis  ...   9.6875         Q\n",
              "3       3                              Wirz, Mr. Albert  ...   8.6625         S\n",
              "4       3  Hirvonen, Mrs. Alexander (Helga E Lindqvist)  ...  12.2875         S\n",
              "\n",
              "[5 rows x 8 columns]"
            ]
          },
          "metadata": {
            "tags": []
          },
          "execution_count": 34
        }
      ]
    },
    {
      "cell_type": "code",
      "metadata": {
        "id": "7D1qSYdikfhh",
        "colab_type": "code",
        "colab": {
          "base_uri": "https://localhost:8080/",
          "height": 35
        },
        "outputId": "561c4d51-ad33-4b38-fae5-a15e7894cd13"
      },
      "source": [
        "t = pd.read_csv(url1, usecols = ['Name'])\n",
        "\n",
        "t.iloc[0,0].split(', ')[1].split('. ')[0]"
      ],
      "execution_count": 35,
      "outputs": [
        {
          "output_type": "execute_result",
          "data": {
            "application/vnd.google.colaboratory.intrinsic+json": {
              "type": "string"
            },
            "text/plain": [
              "'Mr'"
            ]
          },
          "metadata": {
            "tags": []
          },
          "execution_count": 35
        }
      ]
    },
    {
      "cell_type": "code",
      "metadata": {
        "id": "u09nMN60heG-",
        "colab_type": "code",
        "colab": {}
      },
      "source": [
        "titulacao = []\n",
        "for i in range(t.shape[0]):\n",
        "  if t.iloc[i,0].split(', ')[1].split('. ')[0] in ['Mr','Miss','Mrs', 'Master']:\n",
        "    titulacao.append(t.iloc[i,0].split(', ')[1].split('. ')[0])\n",
        "  else:\n",
        "    titulacao.append('Outros')"
      ],
      "execution_count": 36,
      "outputs": []
    },
    {
      "cell_type": "code",
      "metadata": {
        "id": "5OGmSGdXli_I",
        "colab_type": "code",
        "colab": {}
      },
      "source": [
        "titanic['Titulo'] = titulacao"
      ],
      "execution_count": 37,
      "outputs": []
    },
    {
      "cell_type": "code",
      "metadata": {
        "id": "vhf2003Mnn98",
        "colab_type": "code",
        "colab": {}
      },
      "source": [
        "tt = []\n",
        "\n",
        "for i in range(t.shape[0]):\n",
        "  if t.iloc[i,0].split(', ')[1].split('. ')[0] in 'Mr':\n",
        "    tt.append(1)\n",
        "  elif t.iloc[i,0].split(', ')[1].split('. ')[0] in 'Miss':\n",
        "    tt.append(2)\n",
        "  elif t.iloc[i,0].split(', ')[1].split('. ')[0] in 'Mrs':\n",
        "    tt.append(3)\n",
        "  elif t.iloc[i,0].split(', ')[1].split('. ')[0] in 'Master':\n",
        "    tt.append(4)\n",
        "  else:\n",
        "    tt.append(5)"
      ],
      "execution_count": 38,
      "outputs": []
    },
    {
      "cell_type": "code",
      "metadata": {
        "id": "egxVV-49pqJm",
        "colab_type": "code",
        "colab": {}
      },
      "source": [
        "titanic['Ntitulo'] = tt"
      ],
      "execution_count": 39,
      "outputs": []
    },
    {
      "cell_type": "code",
      "metadata": {
        "id": "09d5hGKzdeVb",
        "colab_type": "code",
        "colab": {}
      },
      "source": [
        "t = pd.read_csv(url2, usecols = ['Name'])\n",
        "t_t = []\n",
        "\n",
        "for i in range(t.shape[0]):\n",
        "  if t.iloc[i,0].split(', ')[1].split('. ')[0] in 'Mr':\n",
        "    t_t.append(1)\n",
        "  elif t.iloc[i,0].split(', ')[1].split('. ')[0] in 'Miss':\n",
        "    t_t.append(2)\n",
        "  elif t.iloc[i,0].split(', ')[1].split('. ')[0] in 'Mrs':\n",
        "    t_t.append(3)\n",
        "  elif t.iloc[i,0].split(', ')[1].split('. ')[0] in 'Master':\n",
        "    t_t.append(4)\n",
        "  else:\n",
        "    t_t.append(5)\n",
        "\n",
        "teste['Ntitulo'] = t_t"
      ],
      "execution_count": 40,
      "outputs": []
    },
    {
      "cell_type": "code",
      "metadata": {
        "id": "8mOieudTeWXR",
        "colab_type": "code",
        "colab": {}
      },
      "source": [
        "titanic.drop('Nome', axis = 1, inplace = True)\n",
        "teste.drop('Nome', axis = 1, inplace = True)"
      ],
      "execution_count": 41,
      "outputs": []
    },
    {
      "cell_type": "code",
      "metadata": {
        "id": "Gcbm4xMc6Zai",
        "colab_type": "code",
        "colab": {
          "base_uri": "https://localhost:8080/",
          "height": 258
        },
        "outputId": "8884895f-cf21-43e4-d9a7-f705ec7e18d9"
      },
      "source": [
        "titanic.corr()"
      ],
      "execution_count": 42,
      "outputs": [
        {
          "output_type": "execute_result",
          "data": {
            "text/html": [
              "<div>\n",
              "<style scoped>\n",
              "    .dataframe tbody tr th:only-of-type {\n",
              "        vertical-align: middle;\n",
              "    }\n",
              "\n",
              "    .dataframe tbody tr th {\n",
              "        vertical-align: top;\n",
              "    }\n",
              "\n",
              "    .dataframe thead th {\n",
              "        text-align: right;\n",
              "    }\n",
              "</style>\n",
              "<table border=\"1\" class=\"dataframe\">\n",
              "  <thead>\n",
              "    <tr style=\"text-align: right;\">\n",
              "      <th></th>\n",
              "      <th>Sobreviventes</th>\n",
              "      <th>Classe</th>\n",
              "      <th>Idade</th>\n",
              "      <th>Familia</th>\n",
              "      <th>Parentes</th>\n",
              "      <th>Tarifa</th>\n",
              "      <th>Ntitulo</th>\n",
              "    </tr>\n",
              "  </thead>\n",
              "  <tbody>\n",
              "    <tr>\n",
              "      <th>Sobreviventes</th>\n",
              "      <td>1.000000</td>\n",
              "      <td>-0.338481</td>\n",
              "      <td>-0.077221</td>\n",
              "      <td>-0.035322</td>\n",
              "      <td>0.081629</td>\n",
              "      <td>0.257307</td>\n",
              "      <td>0.414088</td>\n",
              "    </tr>\n",
              "    <tr>\n",
              "      <th>Classe</th>\n",
              "      <td>-0.338481</td>\n",
              "      <td>1.000000</td>\n",
              "      <td>-0.369226</td>\n",
              "      <td>0.083081</td>\n",
              "      <td>0.018443</td>\n",
              "      <td>-0.549500</td>\n",
              "      <td>-0.184841</td>\n",
              "    </tr>\n",
              "    <tr>\n",
              "      <th>Idade</th>\n",
              "      <td>-0.077221</td>\n",
              "      <td>-0.369226</td>\n",
              "      <td>1.000000</td>\n",
              "      <td>-0.308247</td>\n",
              "      <td>-0.189119</td>\n",
              "      <td>0.096067</td>\n",
              "      <td>-0.106788</td>\n",
              "    </tr>\n",
              "    <tr>\n",
              "      <th>Familia</th>\n",
              "      <td>-0.035322</td>\n",
              "      <td>0.083081</td>\n",
              "      <td>-0.308247</td>\n",
              "      <td>1.000000</td>\n",
              "      <td>0.414838</td>\n",
              "      <td>0.159651</td>\n",
              "      <td>0.258403</td>\n",
              "    </tr>\n",
              "    <tr>\n",
              "      <th>Parentes</th>\n",
              "      <td>0.081629</td>\n",
              "      <td>0.018443</td>\n",
              "      <td>-0.189119</td>\n",
              "      <td>0.414838</td>\n",
              "      <td>1.000000</td>\n",
              "      <td>0.216225</td>\n",
              "      <td>0.303608</td>\n",
              "    </tr>\n",
              "    <tr>\n",
              "      <th>Tarifa</th>\n",
              "      <td>0.257307</td>\n",
              "      <td>-0.549500</td>\n",
              "      <td>0.096067</td>\n",
              "      <td>0.159651</td>\n",
              "      <td>0.216225</td>\n",
              "      <td>1.000000</td>\n",
              "      <td>0.137318</td>\n",
              "    </tr>\n",
              "    <tr>\n",
              "      <th>Ntitulo</th>\n",
              "      <td>0.414088</td>\n",
              "      <td>-0.184841</td>\n",
              "      <td>-0.106788</td>\n",
              "      <td>0.258403</td>\n",
              "      <td>0.303608</td>\n",
              "      <td>0.137318</td>\n",
              "      <td>1.000000</td>\n",
              "    </tr>\n",
              "  </tbody>\n",
              "</table>\n",
              "</div>"
            ],
            "text/plain": [
              "               Sobreviventes    Classe     Idade  ...  Parentes    Tarifa   Ntitulo\n",
              "Sobreviventes       1.000000 -0.338481 -0.077221  ...  0.081629  0.257307  0.414088\n",
              "Classe             -0.338481  1.000000 -0.369226  ...  0.018443 -0.549500 -0.184841\n",
              "Idade              -0.077221 -0.369226  1.000000  ... -0.189119  0.096067 -0.106788\n",
              "Familia            -0.035322  0.083081 -0.308247  ...  0.414838  0.159651  0.258403\n",
              "Parentes            0.081629  0.018443 -0.189119  ...  1.000000  0.216225  0.303608\n",
              "Tarifa              0.257307 -0.549500  0.096067  ...  0.216225  1.000000  0.137318\n",
              "Ntitulo             0.414088 -0.184841 -0.106788  ...  0.303608  0.137318  1.000000\n",
              "\n",
              "[7 rows x 7 columns]"
            ]
          },
          "metadata": {
            "tags": []
          },
          "execution_count": 42
        }
      ]
    },
    {
      "cell_type": "code",
      "metadata": {
        "id": "KRydPJCyN9Dr",
        "colab_type": "code",
        "colab": {
          "base_uri": "https://localhost:8080/",
          "height": 248
        },
        "outputId": "0418601b-d9b5-44b6-9c4d-f06007d11baa"
      },
      "source": [
        "titanic[['Ntitulo','Classe','Idade','Tarifa']].groupby([titanic['Sobreviventes'], titanic['Sexo']]).describe()"
      ],
      "execution_count": 43,
      "outputs": [
        {
          "output_type": "execute_result",
          "data": {
            "text/html": [
              "<div>\n",
              "<style scoped>\n",
              "    .dataframe tbody tr th:only-of-type {\n",
              "        vertical-align: middle;\n",
              "    }\n",
              "\n",
              "    .dataframe tbody tr th {\n",
              "        vertical-align: top;\n",
              "    }\n",
              "\n",
              "    .dataframe thead tr th {\n",
              "        text-align: left;\n",
              "    }\n",
              "\n",
              "    .dataframe thead tr:last-of-type th {\n",
              "        text-align: right;\n",
              "    }\n",
              "</style>\n",
              "<table border=\"1\" class=\"dataframe\">\n",
              "  <thead>\n",
              "    <tr>\n",
              "      <th></th>\n",
              "      <th></th>\n",
              "      <th colspan=\"8\" halign=\"left\">Ntitulo</th>\n",
              "      <th colspan=\"8\" halign=\"left\">Classe</th>\n",
              "      <th colspan=\"8\" halign=\"left\">Idade</th>\n",
              "      <th colspan=\"8\" halign=\"left\">Tarifa</th>\n",
              "    </tr>\n",
              "    <tr>\n",
              "      <th></th>\n",
              "      <th></th>\n",
              "      <th>count</th>\n",
              "      <th>mean</th>\n",
              "      <th>std</th>\n",
              "      <th>min</th>\n",
              "      <th>25%</th>\n",
              "      <th>50%</th>\n",
              "      <th>75%</th>\n",
              "      <th>max</th>\n",
              "      <th>count</th>\n",
              "      <th>mean</th>\n",
              "      <th>std</th>\n",
              "      <th>min</th>\n",
              "      <th>25%</th>\n",
              "      <th>50%</th>\n",
              "      <th>75%</th>\n",
              "      <th>max</th>\n",
              "      <th>count</th>\n",
              "      <th>mean</th>\n",
              "      <th>std</th>\n",
              "      <th>min</th>\n",
              "      <th>25%</th>\n",
              "      <th>50%</th>\n",
              "      <th>75%</th>\n",
              "      <th>max</th>\n",
              "      <th>count</th>\n",
              "      <th>mean</th>\n",
              "      <th>std</th>\n",
              "      <th>min</th>\n",
              "      <th>25%</th>\n",
              "      <th>50%</th>\n",
              "      <th>75%</th>\n",
              "      <th>max</th>\n",
              "    </tr>\n",
              "    <tr>\n",
              "      <th>Sobreviventes</th>\n",
              "      <th>Sexo</th>\n",
              "      <th></th>\n",
              "      <th></th>\n",
              "      <th></th>\n",
              "      <th></th>\n",
              "      <th></th>\n",
              "      <th></th>\n",
              "      <th></th>\n",
              "      <th></th>\n",
              "      <th></th>\n",
              "      <th></th>\n",
              "      <th></th>\n",
              "      <th></th>\n",
              "      <th></th>\n",
              "      <th></th>\n",
              "      <th></th>\n",
              "      <th></th>\n",
              "      <th></th>\n",
              "      <th></th>\n",
              "      <th></th>\n",
              "      <th></th>\n",
              "      <th></th>\n",
              "      <th></th>\n",
              "      <th></th>\n",
              "      <th></th>\n",
              "      <th></th>\n",
              "      <th></th>\n",
              "      <th></th>\n",
              "      <th></th>\n",
              "      <th></th>\n",
              "      <th></th>\n",
              "      <th></th>\n",
              "      <th></th>\n",
              "    </tr>\n",
              "  </thead>\n",
              "  <tbody>\n",
              "    <tr>\n",
              "      <th rowspan=\"2\" valign=\"top\">0</th>\n",
              "      <th>female</th>\n",
              "      <td>81.0</td>\n",
              "      <td>2.320988</td>\n",
              "      <td>0.469765</td>\n",
              "      <td>2.0</td>\n",
              "      <td>2.0</td>\n",
              "      <td>2.0</td>\n",
              "      <td>3.0</td>\n",
              "      <td>3.0</td>\n",
              "      <td>81.0</td>\n",
              "      <td>2.851852</td>\n",
              "      <td>0.450309</td>\n",
              "      <td>1.0</td>\n",
              "      <td>3.0</td>\n",
              "      <td>3.0</td>\n",
              "      <td>3.0</td>\n",
              "      <td>3.0</td>\n",
              "      <td>64.0</td>\n",
              "      <td>25.046875</td>\n",
              "      <td>13.618591</td>\n",
              "      <td>2.00</td>\n",
              "      <td>16.75</td>\n",
              "      <td>24.5</td>\n",
              "      <td>33.25</td>\n",
              "      <td>57.0</td>\n",
              "      <td>81.0</td>\n",
              "      <td>23.024385</td>\n",
              "      <td>24.821287</td>\n",
              "      <td>6.750</td>\n",
              "      <td>8.8500</td>\n",
              "      <td>15.24580</td>\n",
              "      <td>27.9000</td>\n",
              "      <td>151.5500</td>\n",
              "    </tr>\n",
              "    <tr>\n",
              "      <th>male</th>\n",
              "      <td>468.0</td>\n",
              "      <td>1.237179</td>\n",
              "      <td>0.886097</td>\n",
              "      <td>1.0</td>\n",
              "      <td>1.0</td>\n",
              "      <td>1.0</td>\n",
              "      <td>1.0</td>\n",
              "      <td>5.0</td>\n",
              "      <td>468.0</td>\n",
              "      <td>2.476496</td>\n",
              "      <td>0.761411</td>\n",
              "      <td>1.0</td>\n",
              "      <td>2.0</td>\n",
              "      <td>3.0</td>\n",
              "      <td>3.0</td>\n",
              "      <td>3.0</td>\n",
              "      <td>360.0</td>\n",
              "      <td>31.618056</td>\n",
              "      <td>14.056019</td>\n",
              "      <td>1.00</td>\n",
              "      <td>21.75</td>\n",
              "      <td>29.0</td>\n",
              "      <td>39.25</td>\n",
              "      <td>74.0</td>\n",
              "      <td>468.0</td>\n",
              "      <td>21.960993</td>\n",
              "      <td>32.409799</td>\n",
              "      <td>0.000</td>\n",
              "      <td>7.7958</td>\n",
              "      <td>9.41665</td>\n",
              "      <td>26.0000</td>\n",
              "      <td>263.0000</td>\n",
              "    </tr>\n",
              "    <tr>\n",
              "      <th rowspan=\"2\" valign=\"top\">1</th>\n",
              "      <th>female</th>\n",
              "      <td>233.0</td>\n",
              "      <td>2.515021</td>\n",
              "      <td>0.657180</td>\n",
              "      <td>2.0</td>\n",
              "      <td>2.0</td>\n",
              "      <td>2.0</td>\n",
              "      <td>3.0</td>\n",
              "      <td>5.0</td>\n",
              "      <td>233.0</td>\n",
              "      <td>1.918455</td>\n",
              "      <td>0.834211</td>\n",
              "      <td>1.0</td>\n",
              "      <td>1.0</td>\n",
              "      <td>2.0</td>\n",
              "      <td>3.0</td>\n",
              "      <td>3.0</td>\n",
              "      <td>197.0</td>\n",
              "      <td>28.847716</td>\n",
              "      <td>14.175073</td>\n",
              "      <td>0.75</td>\n",
              "      <td>19.00</td>\n",
              "      <td>28.0</td>\n",
              "      <td>38.00</td>\n",
              "      <td>63.0</td>\n",
              "      <td>233.0</td>\n",
              "      <td>51.938573</td>\n",
              "      <td>64.102256</td>\n",
              "      <td>7.225</td>\n",
              "      <td>13.0000</td>\n",
              "      <td>26.00000</td>\n",
              "      <td>76.2917</td>\n",
              "      <td>512.3292</td>\n",
              "    </tr>\n",
              "    <tr>\n",
              "      <th>male</th>\n",
              "      <td>109.0</td>\n",
              "      <td>1.816514</td>\n",
              "      <td>1.408737</td>\n",
              "      <td>1.0</td>\n",
              "      <td>1.0</td>\n",
              "      <td>1.0</td>\n",
              "      <td>4.0</td>\n",
              "      <td>5.0</td>\n",
              "      <td>109.0</td>\n",
              "      <td>2.018349</td>\n",
              "      <td>0.922774</td>\n",
              "      <td>1.0</td>\n",
              "      <td>1.0</td>\n",
              "      <td>2.0</td>\n",
              "      <td>3.0</td>\n",
              "      <td>3.0</td>\n",
              "      <td>93.0</td>\n",
              "      <td>27.276022</td>\n",
              "      <td>16.504803</td>\n",
              "      <td>0.42</td>\n",
              "      <td>18.00</td>\n",
              "      <td>28.0</td>\n",
              "      <td>36.00</td>\n",
              "      <td>80.0</td>\n",
              "      <td>109.0</td>\n",
              "      <td>40.821484</td>\n",
              "      <td>71.355967</td>\n",
              "      <td>0.000</td>\n",
              "      <td>9.5000</td>\n",
              "      <td>26.28750</td>\n",
              "      <td>39.0000</td>\n",
              "      <td>512.3292</td>\n",
              "    </tr>\n",
              "  </tbody>\n",
              "</table>\n",
              "</div>"
            ],
            "text/plain": [
              "                     Ntitulo                      ...    Tarifa                   \n",
              "                       count      mean       std  ...       50%      75%       max\n",
              "Sobreviventes Sexo                                ...                             \n",
              "0             female    81.0  2.320988  0.469765  ...  15.24580  27.9000  151.5500\n",
              "              male     468.0  1.237179  0.886097  ...   9.41665  26.0000  263.0000\n",
              "1             female   233.0  2.515021  0.657180  ...  26.00000  76.2917  512.3292\n",
              "              male     109.0  1.816514  1.408737  ...  26.28750  39.0000  512.3292\n",
              "\n",
              "[4 rows x 32 columns]"
            ]
          },
          "metadata": {
            "tags": []
          },
          "execution_count": 43
        }
      ]
    },
    {
      "cell_type": "code",
      "metadata": {
        "id": "_fn8KdCwBsVG",
        "colab_type": "code",
        "colab": {
          "base_uri": "https://localhost:8080/",
          "height": 217
        },
        "outputId": "9777d201-c714-47f5-ef4a-0432d1dc3715"
      },
      "source": [
        "titanic.isnull().mean()"
      ],
      "execution_count": 44,
      "outputs": [
        {
          "output_type": "execute_result",
          "data": {
            "text/plain": [
              "Sobreviventes    0.000000\n",
              "Classe           0.000000\n",
              "Sexo             0.000000\n",
              "Idade            0.198653\n",
              "Familia          0.000000\n",
              "Parentes         0.000000\n",
              "Tarifa           0.000000\n",
              "Embarque         0.002245\n",
              "Titulo           0.000000\n",
              "Ntitulo          0.000000\n",
              "dtype: float64"
            ]
          },
          "metadata": {
            "tags": []
          },
          "execution_count": 44
        }
      ]
    },
    {
      "cell_type": "code",
      "metadata": {
        "id": "pq0b-pa2LUNu",
        "colab_type": "code",
        "colab": {
          "base_uri": "https://localhost:8080/",
          "height": 181
        },
        "outputId": "ea39543c-fa15-4f9c-9c95-b82bbb4f44f4"
      },
      "source": [
        "teste.isnull().mean()"
      ],
      "execution_count": 45,
      "outputs": [
        {
          "output_type": "execute_result",
          "data": {
            "text/plain": [
              "Classe      0.000000\n",
              "Sexo        0.000000\n",
              "Idade       0.205742\n",
              "Familia     0.000000\n",
              "Parentes    0.000000\n",
              "Tarifa      0.002392\n",
              "Embarque    0.000000\n",
              "Ntitulo     0.000000\n",
              "dtype: float64"
            ]
          },
          "metadata": {
            "tags": []
          },
          "execution_count": 45
        }
      ]
    },
    {
      "cell_type": "code",
      "metadata": {
        "id": "zPPfwMMFOyth",
        "colab_type": "code",
        "colab": {
          "base_uri": "https://localhost:8080/",
          "height": 586
        },
        "outputId": "6aa2a100-f78d-4b8b-8818-8b76d110b797"
      },
      "source": [
        "import matplotlib.pyplot as plt\n",
        "import seaborn as sns\n",
        "\n",
        "plt.style.use('ggplot')\n",
        "plt.figure(figsize=(12,7))\n",
        "\n",
        "plt.subplot(3,2,1)\n",
        "plt.hist(titanic[ titanic['Sobreviventes'] == 0 ]['Idade'], alpha = .75)\n",
        "plt.hist(titanic[titanic['Sobreviventes'] == 1]['Idade'], alpha = .75)\n",
        "plt.title('Histograma da Idade', size = 15)\n",
        "\n",
        "\n",
        "plt.subplot(3,2,2)\n",
        "sns.boxplot(x = 'Sobreviventes', y = 'Tarifa', data = titanic)\n",
        "plt.title('Boxplots das tarifas pagas por sobreviventes e mortos')\n",
        "\n",
        "plt.subplot(3,2,3)\n",
        "sns.barplot(x = 'Sobreviventes', y = 'Sexo', data = titanic)\n",
        "plt.title('Comparação dos sexos em relação à sobrevivencia', size = 15)\n",
        "\n",
        "plt.subplot(3,2,4)\n",
        "sns.barplot(x = 'Sobreviventes', y = 'Titulo', data = titanic)\n",
        "plt.title('Comparação da titulação em relação à sobrevivencia', size = 15)\n",
        "\n",
        "plt.subplot(3,2,5)\n",
        "sns.barplot(x = 'Sobreviventes', y = 'Embarque', data = titanic)\n",
        "plt.title('Comparação dos sexos em relação à sobrevivencia', size = 15)\n",
        "\n",
        "plt.subplot(3,2,6)\n",
        "sns.boxplot(x = 'Sobreviventes', y = 'Ntitulo', data = titanic)\n",
        "plt.title('Boxplots dos titulos por sobreviventes e mortos')\n",
        "\n",
        "\n",
        "plt.tight_layout()\n",
        "\n",
        "plt.show()"
      ],
      "execution_count": 46,
      "outputs": [
        {
          "output_type": "stream",
          "text": [
            "/usr/local/lib/python3.6/dist-packages/numpy/lib/histograms.py:839: RuntimeWarning: invalid value encountered in greater_equal\n",
            "  keep = (tmp_a >= first_edge)\n",
            "/usr/local/lib/python3.6/dist-packages/numpy/lib/histograms.py:840: RuntimeWarning: invalid value encountered in less_equal\n",
            "  keep &= (tmp_a <= last_edge)\n"
          ],
          "name": "stderr"
        },
        {
          "output_type": "display_data",
          "data": {
            "image/png": "[encoded data removed]",
            "text/plain": [
              "<Figure size 864x504 with 6 Axes>"
            ]
          },
          "metadata": {
            "tags": []
          }
        }
      ]
    },
    {
      "cell_type": "code",
      "metadata": {
        "id": "daAMNcLrfjCq",
        "colab_type": "code",
        "colab": {}
      },
      "source": [
        "titanic.drop('Titulo', axis = 1, inplace = True)"
      ],
      "execution_count": 50,
      "outputs": []
    },
    {
      "cell_type": "markdown",
      "metadata": {
        "id": "6DRfTQlW7UZ6",
        "colab_type": "text"
      },
      "source": [
        "### Algumas observações:\n",
        "*   As variáveis idade e embarque possuem alguns valores faltantes no conjunto de treino. No conjunto de teste também há valores faltantes na variável tarifa; \n",
        "*   As variáveis titulação, classe e tarifa possuem as maiores correlações com a variável Sobreviventes;\n",
        "*   Metade dos passageiros tinham mais de 28 anos (com um desvio padrão de 14,5 anos)\n",
        "*   Metade dos passageiros pagaram mais de 14,45 (com um desvio padrão de 49,70)\n",
        "*   De 890 passageiros no conjunto de treino temos apenas 360 sobreviventes \n",
        "*   A distribuição dos mortos está mais concentrada nos passageiros cuja tarifa está abaixo de 100. Ao compararmos vemos q os sobreviventes tendem a pagar mais.\n",
        "*   Apenas 20,53% dos homens sobreviveram. Por outro lado, 75,29% das mulheres sobreviveram\n",
        "*   60,77% dos que embarcaram na estação C sobreviveram. Apenas 28,57% dos que embarcaram na Q sobreviveram e a S tem 36% de sobreviventes.\n",
        "*   Podemos notar que a maioria dos mortos tem a titulação Mr.\n"
      ]
    },
    {
      "cell_type": "markdown",
      "metadata": {
        "id": "yIkzmtad5d0Z",
        "colab_type": "text"
      },
      "source": [
        "##Pre-processamento dos dados"
      ]
    },
    {
      "cell_type": "markdown",
      "metadata": {
        "id": "mhVwYO-_eS5R",
        "colab_type": "text"
      },
      "source": [
        "###Lidando com os dados faltantes"
      ]
    },
    {
      "cell_type": "code",
      "metadata": {
        "id": "P1sjR9lZ6uSk",
        "colab_type": "code",
        "colab": {
          "base_uri": "https://localhost:8080/",
          "height": 528
        },
        "outputId": "9bf52f82-3195-465f-a392-65b6c954db59"
      },
      "source": [
        "import missingno as msno\n",
        "msno.matrix(titanic);#visualização dos dados faltantes"
      ],
      "execution_count": 51,
      "outputs": [
        {
          "output_type": "display_data",
          "data": {
            "image/png": "[encoded data removed]",
            "text/plain": [
              "<Figure size 1800x720 with 2 Axes>"
            ]
          },
          "metadata": {
            "tags": []
          }
        }
      ]
    },
    {
      "cell_type": "code",
      "metadata": {
        "id": "OkbAMrFd7HrP",
        "colab_type": "code",
        "colab": {
          "base_uri": "https://localhost:8080/",
          "height": 528
        },
        "outputId": "91750862-ab93-4e6b-aa69-f4088f03139b"
      },
      "source": [
        "msno.matrix(teste)"
      ],
      "execution_count": 52,
      "outputs": [
        {
          "output_type": "execute_result",
          "data": {
            "text/plain": [
              "<matplotlib.axes._subplots.AxesSubplot at 0x7f2531b559e8>"
            ]
          },
          "metadata": {
            "tags": []
          },
          "execution_count": 52
        },
        {
          "output_type": "display_data",
          "data": {
            "image/png": "[encoded data removed]",
            "text/plain": [
              "<Figure size 1800x720 with 2 Axes>"
            ]
          },
          "metadata": {
            "tags": []
          }
        }
      ]
    },
    {
      "cell_type": "code",
      "metadata": {
        "id": "KWwweW537ZjR",
        "colab_type": "code",
        "colab": {}
      },
      "source": [
        "moda_emb = titanic['Embarque'].mode()[0]\n",
        "\n",
        "for dataset in datasets:\n",
        "  dataset['Embarque'] = dataset['Embarque'].fillna(moda_emb)\n",
        "\n"
      ],
      "execution_count": 53,
      "outputs": []
    },
    {
      "cell_type": "markdown",
      "metadata": {
        "id": "HqMxUiqJJk-6",
        "colab_type": "text"
      },
      "source": [
        "####Usando o knn para preencher valores missing das variáveis contínuas"
      ]
    },
    {
      "cell_type": "code",
      "metadata": {
        "id": "i0P86lGb-32Y",
        "colab_type": "code",
        "colab": {
          "base_uri": "https://localhost:8080/",
          "height": 272
        },
        "outputId": "e3a47ed6-e88b-4ebc-811a-2d39d6173293"
      },
      "source": [
        "#Treino\n",
        "df_numeric = titanic.select_dtypes(include = [np.float])\n",
        "from fancyimpute import KNN\n",
        "\n",
        "imputer = KNN(9)\n",
        "\n",
        "df_filled = pd.DataFrame(imputer.fit_transform(df_numeric))\n",
        "df_filled.columns = df_numeric.columns\n",
        "df_filled.index = df_numeric.index\n",
        "\n",
        "#Teste\n",
        "df_numeric2 = teste.select_dtypes(include = [np.float])\n",
        "\n",
        "df_filled2 = pd.DataFrame(imputer.fit_transform(df_numeric2))\n",
        "df_filled2.columns = df_numeric2.columns\n",
        "df_filled2.index = df_numeric2.index\n"
      ],
      "execution_count": 54,
      "outputs": [
        {
          "output_type": "stream",
          "text": [
            "Imputing row 1/891 with 0 missing, elapsed time: 0.126\n",
            "Imputing row 101/891 with 0 missing, elapsed time: 0.127\n",
            "Imputing row 201/891 with 0 missing, elapsed time: 0.128\n",
            "Imputing row 301/891 with 1 missing, elapsed time: 0.130\n",
            "Imputing row 401/891 with 0 missing, elapsed time: 0.131\n",
            "Imputing row 501/891 with 0 missing, elapsed time: 0.132\n",
            "Imputing row 601/891 with 0 missing, elapsed time: 0.133\n",
            "Imputing row 701/891 with 0 missing, elapsed time: 0.135\n",
            "Imputing row 801/891 with 0 missing, elapsed time: 0.136\n",
            "Imputing row 1/418 with 0 missing, elapsed time: 0.030\n",
            "Imputing row 101/418 with 0 missing, elapsed time: 0.031\n",
            "Imputing row 201/418 with 1 missing, elapsed time: 0.033\n",
            "Imputing row 301/418 with 0 missing, elapsed time: 0.035\n",
            "Imputing row 401/418 with 0 missing, elapsed time: 0.036\n"
          ],
          "name": "stdout"
        }
      ]
    },
    {
      "cell_type": "code",
      "metadata": {
        "id": "xHyzaxOAJDgE",
        "colab_type": "code",
        "colab": {}
      },
      "source": [
        "titanic['Idade'] = df_filled['Idade']\n",
        "titanic['Tarifa'] = df_filled['Tarifa']\n",
        "teste['Idade'] = df_filled2['Idade']\n",
        "teste['Tarifa'] = df_filled2['Tarifa']"
      ],
      "execution_count": 55,
      "outputs": []
    },
    {
      "cell_type": "markdown",
      "metadata": {
        "id": "mAWeRtsxJpGX",
        "colab_type": "text"
      },
      "source": [
        "### Trocando a variavel sexo por valores binários"
      ]
    },
    {
      "cell_type": "code",
      "metadata": {
        "id": "RtQub-u0JgaV",
        "colab_type": "code",
        "colab": {}
      },
      "source": [
        "titanic['Sexo'] = titanic['Sexo'].map({'male':0, 'female': 1})\n",
        "teste['Sexo'] = teste['Sexo'].map({'male': 0,'female': 1})\n"
      ],
      "execution_count": 56,
      "outputs": []
    },
    {
      "cell_type": "markdown",
      "metadata": {
        "id": "tVA5VcsmKdkH",
        "colab_type": "text"
      },
      "source": [
        "###Dummyficação da variável Embarque"
      ]
    },
    {
      "cell_type": "code",
      "metadata": {
        "id": "yNjvI_-9KWuc",
        "colab_type": "code",
        "colab": {}
      },
      "source": [
        "titanic = pd.get_dummies(titanic, columns = ['Ntitulo','Embarque'], drop_first = True)\n",
        "teste = pd.get_dummies(teste, columns = ['Ntitulo','Embarque'], drop_first = True)"
      ],
      "execution_count": 57,
      "outputs": []
    },
    {
      "cell_type": "code",
      "metadata": {
        "id": "ufbC-oaHLi6-",
        "colab_type": "code",
        "colab": {
          "base_uri": "https://localhost:8080/",
          "height": 198
        },
        "outputId": "37a1eed3-7c25-408d-d9f8-3fff13164c27"
      },
      "source": [
        "titanic.head()"
      ],
      "execution_count": 58,
      "outputs": [
        {
          "output_type": "execute_result",
          "data": {
            "text/html": [
              "<div>\n",
              "<style scoped>\n",
              "    .dataframe tbody tr th:only-of-type {\n",
              "        vertical-align: middle;\n",
              "    }\n",
              "\n",
              "    .dataframe tbody tr th {\n",
              "        vertical-align: top;\n",
              "    }\n",
              "\n",
              "    .dataframe thead th {\n",
              "        text-align: right;\n",
              "    }\n",
              "</style>\n",
              "<table border=\"1\" class=\"dataframe\">\n",
              "  <thead>\n",
              "    <tr style=\"text-align: right;\">\n",
              "      <th></th>\n",
              "      <th>Sobreviventes</th>\n",
              "      <th>Classe</th>\n",
              "      <th>Sexo</th>\n",
              "      <th>Idade</th>\n",
              "      <th>Familia</th>\n",
              "      <th>Parentes</th>\n",
              "      <th>Tarifa</th>\n",
              "      <th>Ntitulo_2</th>\n",
              "      <th>Ntitulo_3</th>\n",
              "      <th>Ntitulo_4</th>\n",
              "      <th>Ntitulo_5</th>\n",
              "      <th>Embarque_Q</th>\n",
              "      <th>Embarque_S</th>\n",
              "    </tr>\n",
              "  </thead>\n",
              "  <tbody>\n",
              "    <tr>\n",
              "      <th>0</th>\n",
              "      <td>0</td>\n",
              "      <td>3</td>\n",
              "      <td>0</td>\n",
              "      <td>22.0</td>\n",
              "      <td>1</td>\n",
              "      <td>0</td>\n",
              "      <td>7.2500</td>\n",
              "      <td>0</td>\n",
              "      <td>0</td>\n",
              "      <td>0</td>\n",
              "      <td>0</td>\n",
              "      <td>0</td>\n",
              "      <td>1</td>\n",
              "    </tr>\n",
              "    <tr>\n",
              "      <th>1</th>\n",
              "      <td>1</td>\n",
              "      <td>1</td>\n",
              "      <td>1</td>\n",
              "      <td>38.0</td>\n",
              "      <td>1</td>\n",
              "      <td>0</td>\n",
              "      <td>71.2833</td>\n",
              "      <td>0</td>\n",
              "      <td>1</td>\n",
              "      <td>0</td>\n",
              "      <td>0</td>\n",
              "      <td>0</td>\n",
              "      <td>0</td>\n",
              "    </tr>\n",
              "    <tr>\n",
              "      <th>2</th>\n",
              "      <td>1</td>\n",
              "      <td>3</td>\n",
              "      <td>1</td>\n",
              "      <td>26.0</td>\n",
              "      <td>0</td>\n",
              "      <td>0</td>\n",
              "      <td>7.9250</td>\n",
              "      <td>1</td>\n",
              "      <td>0</td>\n",
              "      <td>0</td>\n",
              "      <td>0</td>\n",
              "      <td>0</td>\n",
              "      <td>1</td>\n",
              "    </tr>\n",
              "    <tr>\n",
              "      <th>3</th>\n",
              "      <td>1</td>\n",
              "      <td>1</td>\n",
              "      <td>1</td>\n",
              "      <td>35.0</td>\n",
              "      <td>1</td>\n",
              "      <td>0</td>\n",
              "      <td>53.1000</td>\n",
              "      <td>0</td>\n",
              "      <td>1</td>\n",
              "      <td>0</td>\n",
              "      <td>0</td>\n",
              "      <td>0</td>\n",
              "      <td>1</td>\n",
              "    </tr>\n",
              "    <tr>\n",
              "      <th>4</th>\n",
              "      <td>0</td>\n",
              "      <td>3</td>\n",
              "      <td>0</td>\n",
              "      <td>35.0</td>\n",
              "      <td>0</td>\n",
              "      <td>0</td>\n",
              "      <td>8.0500</td>\n",
              "      <td>0</td>\n",
              "      <td>0</td>\n",
              "      <td>0</td>\n",
              "      <td>0</td>\n",
              "      <td>0</td>\n",
              "      <td>1</td>\n",
              "    </tr>\n",
              "  </tbody>\n",
              "</table>\n",
              "</div>"
            ],
            "text/plain": [
              "   Sobreviventes  Classe  Sexo  ...  Ntitulo_5  Embarque_Q  Embarque_S\n",
              "0              0       3     0  ...          0           0           1\n",
              "1              1       1     1  ...          0           0           0\n",
              "2              1       3     1  ...          0           0           1\n",
              "3              1       1     1  ...          0           0           1\n",
              "4              0       3     0  ...          0           0           1\n",
              "\n",
              "[5 rows x 13 columns]"
            ]
          },
          "metadata": {
            "tags": []
          },
          "execution_count": 58
        }
      ]
    },
    {
      "cell_type": "markdown",
      "metadata": {
        "id": "udzk1XX_L_vW",
        "colab_type": "text"
      },
      "source": [
        "###Padronizando variáveis contínuas"
      ]
    },
    {
      "cell_type": "code",
      "metadata": {
        "id": "XYNy2hS1L9Pu",
        "colab_type": "code",
        "colab": {}
      },
      "source": [
        "from sklearn.preprocessing import StandardScaler\n",
        "sc = StandardScaler() "
      ],
      "execution_count": 59,
      "outputs": []
    },
    {
      "cell_type": "code",
      "metadata": {
        "id": "RoGgi6rbMtwT",
        "colab_type": "code",
        "colab": {}
      },
      "source": [
        "aux0 = sc.fit_transform(titanic[['Idade','Tarifa']])\n",
        "aux1 = pd.DataFrame(aux0, columns = ['NIdade', 'NTarifa'])\n",
        "titanic = pd.concat([titanic, aux1], axis = 1)\n",
        "titanic.drop(['Idade', 'Tarifa'], axis = 1, inplace = True)"
      ],
      "execution_count": 60,
      "outputs": []
    },
    {
      "cell_type": "code",
      "metadata": {
        "id": "JKOyr1zk0HJR",
        "colab_type": "code",
        "colab": {}
      },
      "source": [
        "aux0 = sc.fit_transform(teste[['Idade', 'Tarifa']])\n",
        "aux1 = pd.DataFrame(aux0, columns = ['NIdade', 'NTarifa'])\n",
        "teste = pd.concat([teste, aux1], axis = 1)\n",
        "teste.drop(['Idade', 'Tarifa'], axis = 1, inplace = True)"
      ],
      "execution_count": 61,
      "outputs": []
    },
    {
      "cell_type": "code",
      "metadata": {
        "id": "zs0XqiWN1ipZ",
        "colab_type": "code",
        "colab": {
          "base_uri": "https://localhost:8080/",
          "height": 218
        },
        "outputId": "779bde79-5b21-40f0-b3e8-ea8b159a4f79"
      },
      "source": [
        "titanic.head()"
      ],
      "execution_count": 62,
      "outputs": [
        {
          "output_type": "execute_result",
          "data": {
            "text/html": [
              "<div>\n",
              "<style scoped>\n",
              "    .dataframe tbody tr th:only-of-type {\n",
              "        vertical-align: middle;\n",
              "    }\n",
              "\n",
              "    .dataframe tbody tr th {\n",
              "        vertical-align: top;\n",
              "    }\n",
              "\n",
              "    .dataframe thead th {\n",
              "        text-align: right;\n",
              "    }\n",
              "</style>\n",
              "<table border=\"1\" class=\"dataframe\">\n",
              "  <thead>\n",
              "    <tr style=\"text-align: right;\">\n",
              "      <th></th>\n",
              "      <th>Sobreviventes</th>\n",
              "      <th>Classe</th>\n",
              "      <th>Sexo</th>\n",
              "      <th>Familia</th>\n",
              "      <th>Parentes</th>\n",
              "      <th>Ntitulo_2</th>\n",
              "      <th>Ntitulo_3</th>\n",
              "      <th>Ntitulo_4</th>\n",
              "      <th>Ntitulo_5</th>\n",
              "      <th>Embarque_Q</th>\n",
              "      <th>Embarque_S</th>\n",
              "      <th>NIdade</th>\n",
              "      <th>NTarifa</th>\n",
              "    </tr>\n",
              "  </thead>\n",
              "  <tbody>\n",
              "    <tr>\n",
              "      <th>0</th>\n",
              "      <td>0</td>\n",
              "      <td>3</td>\n",
              "      <td>0</td>\n",
              "      <td>1</td>\n",
              "      <td>0</td>\n",
              "      <td>0</td>\n",
              "      <td>0</td>\n",
              "      <td>0</td>\n",
              "      <td>0</td>\n",
              "      <td>0</td>\n",
              "      <td>1</td>\n",
              "      <td>-0.587368</td>\n",
              "      <td>-0.502445</td>\n",
              "    </tr>\n",
              "    <tr>\n",
              "      <th>1</th>\n",
              "      <td>1</td>\n",
              "      <td>1</td>\n",
              "      <td>1</td>\n",
              "      <td>1</td>\n",
              "      <td>0</td>\n",
              "      <td>0</td>\n",
              "      <td>1</td>\n",
              "      <td>0</td>\n",
              "      <td>0</td>\n",
              "      <td>0</td>\n",
              "      <td>0</td>\n",
              "      <td>0.597733</td>\n",
              "      <td>0.786845</td>\n",
              "    </tr>\n",
              "    <tr>\n",
              "      <th>2</th>\n",
              "      <td>1</td>\n",
              "      <td>3</td>\n",
              "      <td>1</td>\n",
              "      <td>0</td>\n",
              "      <td>0</td>\n",
              "      <td>1</td>\n",
              "      <td>0</td>\n",
              "      <td>0</td>\n",
              "      <td>0</td>\n",
              "      <td>0</td>\n",
              "      <td>1</td>\n",
              "      <td>-0.291093</td>\n",
              "      <td>-0.488854</td>\n",
              "    </tr>\n",
              "    <tr>\n",
              "      <th>3</th>\n",
              "      <td>1</td>\n",
              "      <td>1</td>\n",
              "      <td>1</td>\n",
              "      <td>1</td>\n",
              "      <td>0</td>\n",
              "      <td>0</td>\n",
              "      <td>1</td>\n",
              "      <td>0</td>\n",
              "      <td>0</td>\n",
              "      <td>0</td>\n",
              "      <td>1</td>\n",
              "      <td>0.375526</td>\n",
              "      <td>0.420730</td>\n",
              "    </tr>\n",
              "    <tr>\n",
              "      <th>4</th>\n",
              "      <td>0</td>\n",
              "      <td>3</td>\n",
              "      <td>0</td>\n",
              "      <td>0</td>\n",
              "      <td>0</td>\n",
              "      <td>0</td>\n",
              "      <td>0</td>\n",
              "      <td>0</td>\n",
              "      <td>0</td>\n",
              "      <td>0</td>\n",
              "      <td>1</td>\n",
              "      <td>0.375526</td>\n",
              "      <td>-0.486337</td>\n",
              "    </tr>\n",
              "  </tbody>\n",
              "</table>\n",
              "</div>"
            ],
            "text/plain": [
              "   Sobreviventes  Classe  Sexo  ...  Embarque_S    NIdade   NTarifa\n",
              "0              0       3     0  ...           1 -0.587368 -0.502445\n",
              "1              1       1     1  ...           0  0.597733  0.786845\n",
              "2              1       3     1  ...           1 -0.291093 -0.488854\n",
              "3              1       1     1  ...           1  0.375526  0.420730\n",
              "4              0       3     0  ...           1  0.375526 -0.486337\n",
              "\n",
              "[5 rows x 13 columns]"
            ]
          },
          "metadata": {
            "tags": []
          },
          "execution_count": 62
        }
      ]
    },
    {
      "cell_type": "markdown",
      "metadata": {
        "id": "f1fx0x3S1wkF",
        "colab_type": "text"
      },
      "source": [
        "##Modelo"
      ]
    },
    {
      "cell_type": "code",
      "metadata": {
        "id": "7Lf5N7YP1yn9",
        "colab_type": "code",
        "colab": {}
      },
      "source": [
        "# Modelo\n",
        "from sklearn.ensemble import RandomForestClassifier\n",
        "#Validação\n",
        "from sklearn.model_selection import cross_val_score\n",
        "from sklearn.model_selection import KFold"
      ],
      "execution_count": 63,
      "outputs": []
    },
    {
      "cell_type": "code",
      "metadata": {
        "id": "SAkOyItx1-38",
        "colab_type": "code",
        "colab": {}
      },
      "source": [
        "#Separando variável explicativa e variável resposta do treinamento\n",
        "\n",
        "X = titanic.drop('Sobreviventes', axis = 1)\n",
        "Y = titanic['Sobreviventes']"
      ],
      "execution_count": 64,
      "outputs": []
    },
    {
      "cell_type": "code",
      "metadata": {
        "id": "_9SvtK_e2jnk",
        "colab_type": "code",
        "colab": {}
      },
      "source": [
        "#Validação cruzada\n",
        "kf = KFold(n_splits = 21, shuffle = True)"
      ],
      "execution_count": 69,
      "outputs": []
    },
    {
      "cell_type": "markdown",
      "metadata": {
        "id": "Ddv64SoLglcO",
        "colab_type": "text"
      },
      "source": [
        "###Random Forest"
      ]
    },
    {
      "cell_type": "code",
      "metadata": {
        "id": "TH6H30mNgv9j",
        "colab_type": "code",
        "colab": {
          "base_uri": "https://localhost:8080/",
          "height": 399
        },
        "outputId": "b7f64cfe-be51-4278-b852-f7a0b9ec20b7"
      },
      "source": [
        "#Encontrando o melhor valor do 'max_depth' através de validação cruzada K-FOLD\n",
        "\n",
        "from sklearn.model_selection import GridSearchCV\n",
        "\n",
        "valores = np.arange(2,21,2)\n",
        "parametros = {'max_depth': valores}\n",
        "\n",
        "clf = GridSearchCV(RandomForestClassifier(), param_grid = parametros, cv = kf, scoring = 'accuracy')\n",
        "clf.fit(X,Y)"
      ],
      "execution_count": 70,
      "outputs": [
        {
          "output_type": "execute_result",
          "data": {
            "text/plain": [
              "GridSearchCV(cv=KFold(n_splits=21, random_state=None, shuffle=True),\n",
              "             error_score=nan,\n",
              "             estimator=RandomForestClassifier(bootstrap=True, ccp_alpha=0.0,\n",
              "                                              class_weight=None,\n",
              "                                              criterion='gini', max_depth=None,\n",
              "                                              max_features='auto',\n",
              "                                              max_leaf_nodes=None,\n",
              "                                              max_samples=None,\n",
              "                                              min_impurity_decrease=0.0,\n",
              "                                              min_impurity_split=None,\n",
              "                                              min_samples_leaf=1,\n",
              "                                              min_samples_split=2,\n",
              "                                              min_weight_fraction_leaf=0.0,\n",
              "                                              n_estimators=100, n_jobs=None,\n",
              "                                              oob_score=False,\n",
              "                                              random_state=None, verbose=0,\n",
              "                                              warm_start=False),\n",
              "             iid='deprecated', n_jobs=None,\n",
              "             param_grid={'max_depth': array([ 2,  4,  6,  8, 10, 12, 14, 16, 18, 20])},\n",
              "             pre_dispatch='2*n_jobs', refit=True, return_train_score=False,\n",
              "             scoring='accuracy', verbose=0)"
            ]
          },
          "metadata": {
            "tags": []
          },
          "execution_count": 70
        }
      ]
    },
    {
      "cell_type": "code",
      "metadata": {
        "id": "7lLKMDVxh3lQ",
        "colab_type": "code",
        "colab": {
          "base_uri": "https://localhost:8080/",
          "height": 35
        },
        "outputId": "6676814d-d7c6-4b6a-aff9-671fc99ca741"
      },
      "source": [
        "#melhor 'max_depth'\n",
        "clf.best_params_"
      ],
      "execution_count": 71,
      "outputs": [
        {
          "output_type": "execute_result",
          "data": {
            "text/plain": [
              "{'max_depth': 8}"
            ]
          },
          "metadata": {
            "tags": []
          },
          "execution_count": 71
        }
      ]
    },
    {
      "cell_type": "code",
      "metadata": {
        "id": "Pd9TsOBLiACe",
        "colab_type": "code",
        "colab": {
          "base_uri": "https://localhost:8080/",
          "height": 265
        },
        "outputId": "4f954f13-e325-4aa5-d788-61f1b24e0a63"
      },
      "source": [
        "# gráfico de todos as acurácias obtidas no GridSearch\n",
        "\n",
        "import matplotlib.pyplot as plt\n",
        "\n",
        "accs = clf.cv_results_['mean_test_score']\n",
        "melhor = clf.best_params_.get('max_depth')\n",
        "\n",
        "plt.plot(valores, accs)\n",
        "plt.axhline(max(accs), color = 'black', linestyle = 'dotted')\n",
        "plt.axvline(melhor, color = 'black', linestyle = 'dotted')\n",
        "plt.show()"
      ],
      "execution_count": 72,
      "outputs": [
        {
          "output_type": "display_data",
          "data": {
            "image/png": "[encoded data removed]",
            "text/plain": [
              "<Figure size 432x288 with 1 Axes>"
            ]
          },
          "metadata": {
            "tags": []
          }
        }
      ]
    },
    {
      "cell_type": "code",
      "metadata": {
        "id": "mdW2EKEZiNbl",
        "colab_type": "code",
        "colab": {
          "base_uri": "https://localhost:8080/",
          "height": 35
        },
        "outputId": "206702b8-4ff5-4fb8-bfd7-6cb7404d449e"
      },
      "source": [
        "#verificando a performance\n",
        "\n",
        "modelo = RandomForestClassifier(max_depth = 8)\n",
        "accs_vc = cross_val_score(modelo, X, Y, cv = 10, scoring = 'accuracy')\n",
        " \n",
        "print('Acurácia do Random Forest: {:.2f}%'.format(100*accs_vc.mean()))"
      ],
      "execution_count": 73,
      "outputs": [
        {
          "output_type": "stream",
          "text": [
            "Acurácia do Random Forest: 83.06%\n"
          ],
          "name": "stdout"
        }
      ]
    },
    {
      "cell_type": "markdown",
      "metadata": {
        "id": "bPBC5Ac8vAv1",
        "colab_type": "text"
      },
      "source": [
        "###Curva ROC"
      ]
    },
    {
      "cell_type": "code",
      "metadata": {
        "id": "QJBX-FgRhAYi",
        "colab_type": "code",
        "colab": {}
      },
      "source": [
        "from sklearn.metrics import roc_curve\n",
        "\n",
        "# compute true positive rate and false positive rate\n",
        "modelo.fit(X,Y)\n",
        "y = modelo.predict_proba(X)\n",
        "y = y[:,1]\n",
        "\n",
        "false_positive_rate, true_positive_rate, thresholds = roc_curve(Y, y)"
      ],
      "execution_count": 79,
      "outputs": []
    },
    {
      "cell_type": "code",
      "metadata": {
        "id": "i4IAUv-wx-B-",
        "colab_type": "code",
        "colab": {
          "base_uri": "https://localhost:8080/",
          "height": 437
        },
        "outputId": "9c48cf7e-fd92-47fe-c304-5d7dad248e16"
      },
      "source": [
        "def plot_roc_curve(false_positive_rate,true_positive_rate, label = None):\n",
        "  plt.plot(false_positive_rate,true_positive_rate, linewidth=2, label = label)\n",
        "  plt.plot([0,1],[0,1],'r',linewidth = 4)\n",
        "  plt.axis([0,1,0,1])\n",
        "  plt.xlabel('Taxa de Falso Positivo (TFP)', fontsize = 16)\n",
        "  plt.ylabel('Taxa de Verdadeiro Positivos (TVP)', fontsize = 16)\n",
        "\n",
        "plt.figure(figsize = (14,7))\n",
        "plot_roc_curve(false_positive_rate,true_positive_rate)\n",
        "plt.show()"
      ],
      "execution_count": 83,
      "outputs": [
        {
          "output_type": "display_data",
          "data": {
            "image/png": "[encoded data removed]",
            "text/plain": [
              "<Figure size 1008x504 with 1 Axes>"
            ]
          },
          "metadata": {
            "tags": []
          }
        }
      ]
    },
    {
      "cell_type": "code",
      "metadata": {
        "id": "GyRtAAXK0D4e",
        "colab_type": "code",
        "colab": {
          "base_uri": "https://localhost:8080/",
          "height": 35
        },
        "outputId": "f41186fc-7a09-404c-ff52-375c3b63812a"
      },
      "source": [
        "from sklearn.metrics import roc_auc_score\n",
        "\n",
        "r_a_score = roc_auc_score(Y,y)\n",
        "print('ROC-AUT-Score:', r_a_score)"
      ],
      "execution_count": 84,
      "outputs": [
        {
          "output_type": "stream",
          "text": [
            "ROC-AUT-Score: 0.9567768084449131\n"
          ],
          "name": "stdout"
        }
      ]
    },
    {
      "cell_type": "markdown",
      "metadata": {
        "id": "hj7HL1Dd3Ehh",
        "colab_type": "text"
      },
      "source": [
        "##Preparando o csv pa submeter o modelo ao Kaggle"
      ]
    },
    {
      "cell_type": "code",
      "metadata": {
        "id": "iVicE5j-jaKE",
        "colab_type": "code",
        "colab": {}
      },
      "source": [
        "pred = modelo.predict(teste)\n",
        "\n",
        "url = 'https://raw.githubusercontent.com/ricardorocha86/Datasets/master/Titanic/test.csv' \n",
        "subm = pd.read_csv(url, usecols = ['PassengerId'] )  \n",
        "subm['Survived'] = pred\n",
        "\n",
        "subm.to_csv('Nova_submissao.csv', index = False)"
      ],
      "execution_count": 85,
      "outputs": []
    }
  ]
}