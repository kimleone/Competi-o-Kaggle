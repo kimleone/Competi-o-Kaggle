{
  "nbformat": 4,
  "nbformat_minor": 0,
  "metadata": {
    "colab": {
      "name": "titanic.ipynb",
      "provenance": [],
      "toc_visible": true,
      "authorship_tag": "ABX9TyPe4CF68TyMdY7uoqSgj1Eq",
      "include_colab_link": true
    },
    "kernelspec": {
      "name": "python3",
      "display_name": "Python 3"
    }
  },
  "cells": [
    {
      "cell_type": "markdown",
      "metadata": {
        "id": "view-in-github",
        "colab_type": "text"
      },
      "source": [
        "<a href=\"https://colab.research.google.com/github/kimleone/Competi-o-Kaggle/blob/master/titanic.ipynb\" target=\"_parent\"><img src=\"https://colab.research.google.com/assets/colab-badge.svg\" alt=\"Open In Colab\"/></a>"
      ]
    },
    {
      "cell_type": "markdown",
      "metadata": {
        "id": "GngOZ1sXyJ1X",
        "colab_type": "text"
      },
      "source": [
        "#Projeto Titanic"
      ]
    },
    {
      "cell_type": "code",
      "metadata": {
        "id": "9UPcqhB5yHWS",
        "colab_type": "code",
        "colab": {}
      },
      "source": [
        "import pandas as pd\n",
        "import numpy as np"
      ],
      "execution_count": 2,
      "outputs": []
    },
    {
      "cell_type": "code",
      "metadata": {
        "id": "_3YfdPecz7P6",
        "colab_type": "code",
        "colab": {}
      },
      "source": [
        "url1 = 'https://raw.githubusercontent.com/ricardorocha86/Datasets/master/Titanic/train.csv'\n",
        "url2 = 'https://raw.githubusercontent.com/ricardorocha86/Datasets/master/Titanic/test.csv'\n",
        "\n",
        "titanic = pd.read_csv(url1)\n",
        "teste = pd.read_csv(url2)"
      ],
      "execution_count": 90,
      "outputs": []
    },
    {
      "cell_type": "code",
      "metadata": {
        "id": "Q_VzCvaX0Vr2",
        "colab_type": "code",
        "colab": {
          "base_uri": "https://localhost:8080/",
          "height": 457
        },
        "outputId": "a2c2662c-89e5-419f-b651-b1db27a9918b"
      },
      "source": [
        "titanic.head()"
      ],
      "execution_count": 91,
      "outputs": [
        {
          "output_type": "execute_result",
          "data": {
            "text/html": [
              "<div>\n",
              "<style scoped>\n",
              "    .dataframe tbody tr th:only-of-type {\n",
              "        vertical-align: middle;\n",
              "    }\n",
              "\n",
              "    .dataframe tbody tr th {\n",
              "        vertical-align: top;\n",
              "    }\n",
              "\n",
              "    .dataframe thead th {\n",
              "        text-align: right;\n",
              "    }\n",
              "</style>\n",
              "<table border=\"1\" class=\"dataframe\">\n",
              "  <thead>\n",
              "    <tr style=\"text-align: right;\">\n",
              "      <th></th>\n",
              "      <th>PassengerId</th>\n",
              "      <th>Survived</th>\n",
              "      <th>Pclass</th>\n",
              "      <th>Name</th>\n",
              "      <th>Sex</th>\n",
              "      <th>Age</th>\n",
              "      <th>SibSp</th>\n",
              "      <th>Parch</th>\n",
              "      <th>Ticket</th>\n",
              "      <th>Fare</th>\n",
              "      <th>Cabin</th>\n",
              "      <th>Embarked</th>\n",
              "    </tr>\n",
              "  </thead>\n",
              "  <tbody>\n",
              "    <tr>\n",
              "      <th>0</th>\n",
              "      <td>1</td>\n",
              "      <td>0</td>\n",
              "      <td>3</td>\n",
              "      <td>Braund, Mr. Owen Harris</td>\n",
              "      <td>male</td>\n",
              "      <td>22.0</td>\n",
              "      <td>1</td>\n",
              "      <td>0</td>\n",
              "      <td>A/5 21171</td>\n",
              "      <td>7.2500</td>\n",
              "      <td>NaN</td>\n",
              "      <td>S</td>\n",
              "    </tr>\n",
              "    <tr>\n",
              "      <th>1</th>\n",
              "      <td>2</td>\n",
              "      <td>1</td>\n",
              "      <td>1</td>\n",
              "      <td>Cumings, Mrs. John Bradley (Florence Briggs Th...</td>\n",
              "      <td>female</td>\n",
              "      <td>38.0</td>\n",
              "      <td>1</td>\n",
              "      <td>0</td>\n",
              "      <td>PC 17599</td>\n",
              "      <td>71.2833</td>\n",
              "      <td>C85</td>\n",
              "      <td>C</td>\n",
              "    </tr>\n",
              "    <tr>\n",
              "      <th>2</th>\n",
              "      <td>3</td>\n",
              "      <td>1</td>\n",
              "      <td>3</td>\n",
              "      <td>Heikkinen, Miss. Laina</td>\n",
              "      <td>female</td>\n",
              "      <td>26.0</td>\n",
              "      <td>0</td>\n",
              "      <td>0</td>\n",
              "      <td>STON/O2. 3101282</td>\n",
              "      <td>7.9250</td>\n",
              "      <td>NaN</td>\n",
              "      <td>S</td>\n",
              "    </tr>\n",
              "    <tr>\n",
              "      <th>3</th>\n",
              "      <td>4</td>\n",
              "      <td>1</td>\n",
              "      <td>1</td>\n",
              "      <td>Futrelle, Mrs. Jacques Heath (Lily May Peel)</td>\n",
              "      <td>female</td>\n",
              "      <td>35.0</td>\n",
              "      <td>1</td>\n",
              "      <td>0</td>\n",
              "      <td>113803</td>\n",
              "      <td>53.1000</td>\n",
              "      <td>C123</td>\n",
              "      <td>S</td>\n",
              "    </tr>\n",
              "    <tr>\n",
              "      <th>4</th>\n",
              "      <td>5</td>\n",
              "      <td>0</td>\n",
              "      <td>3</td>\n",
              "      <td>Allen, Mr. William Henry</td>\n",
              "      <td>male</td>\n",
              "      <td>35.0</td>\n",
              "      <td>0</td>\n",
              "      <td>0</td>\n",
              "      <td>373450</td>\n",
              "      <td>8.0500</td>\n",
              "      <td>NaN</td>\n",
              "      <td>S</td>\n",
              "    </tr>\n",
              "  </tbody>\n",
              "</table>\n",
              "</div>"
            ],
            "text/plain": [
              "   PassengerId  Survived  Pclass  ...     Fare Cabin  Embarked\n",
              "0            1         0       3  ...   7.2500   NaN         S\n",
              "1            2         1       1  ...  71.2833   C85         C\n",
              "2            3         1       3  ...   7.9250   NaN         S\n",
              "3            4         1       1  ...  53.1000  C123         S\n",
              "4            5         0       3  ...   8.0500   NaN         S\n",
              "\n",
              "[5 rows x 12 columns]"
            ]
          },
          "metadata": {
            "tags": []
          },
          "execution_count": 91
        }
      ]
    },
    {
      "cell_type": "markdown",
      "metadata": {
        "id": "F1CtonA60s6s",
        "colab_type": "text"
      },
      "source": [
        "## Explorando os dados"
      ]
    },
    {
      "cell_type": "markdown",
      "metadata": {
        "id": "dvZiUxuW5LkG",
        "colab_type": "text"
      },
      "source": [
        "###Análise rápida"
      ]
    },
    {
      "cell_type": "code",
      "metadata": {
        "id": "oqNNbbqi0sSd",
        "colab_type": "code",
        "colab": {}
      },
      "source": [
        "!pip install sweetviz"
      ],
      "execution_count": null,
      "outputs": []
    },
    {
      "cell_type": "code",
      "metadata": {
        "id": "X2-0kcUe037_",
        "colab_type": "code",
        "colab": {}
      },
      "source": [
        "import sweetviz"
      ],
      "execution_count": null,
      "outputs": []
    },
    {
      "cell_type": "code",
      "metadata": {
        "id": "JxHUaf8706uO",
        "colab_type": "code",
        "colab": {}
      },
      "source": [
        "ae = sweetviz.compare_intra(titanic, titanic['Survived'] == 0, ['Vítima','Sobrevivente'])\n",
        "ae.show_html()"
      ],
      "execution_count": null,
      "outputs": []
    },
    {
      "cell_type": "markdown",
      "metadata": {
        "id": "AEKYRY1M5RtA",
        "colab_type": "text"
      },
      "source": [
        "###Análise exploratória dos dados"
      ]
    },
    {
      "cell_type": "code",
      "metadata": {
        "id": "oq33iD-JJh34",
        "colab_type": "code",
        "colab": {}
      },
      "source": [
        "#Pré-processamento básico:\n",
        "\n",
        "#lista dos datasets que iremos modificar\n",
        "datasets = [titanic,teste]\n",
        "\n",
        "#dropando  as variáveis de interesse em cada conjunto de dados\n",
        "for dataset in datasets:\n",
        "  dataset.drop(['PassengerId','Name','Ticket','Cabin'], axis = 1 , inplace = True)"
      ],
      "execution_count": 92,
      "outputs": []
    },
    {
      "cell_type": "code",
      "metadata": {
        "id": "TDQ9V10hDkIb",
        "colab_type": "code",
        "colab": {
          "base_uri": "https://localhost:8080/",
          "height": 198
        },
        "outputId": "1ab94524-3de6-448f-8690-7b25d9f2f237"
      },
      "source": [
        "titanic.rename(columns = {'Survived': 'Sobreviventes'}, inplace = True)\n",
        "titanic.rename(columns = {'Pclass': 'Classe'}, inplace = True)\n",
        "titanic.rename(columns = {'Age':'Idade'}, inplace = True)\n",
        "titanic.rename(columns = {'SibSp': 'Familia'}, inplace = True)\n",
        "titanic.rename(columns = {'Parch' : 'Parentes'}, inplace = True)\n",
        "titanic.rename(columns = {'Fare': 'Tarifa'}, inplace = True)\n",
        "titanic.rename(columns = {'Sex': 'Sexo'}, inplace = True)\n",
        "titanic.rename(columns = {'Embarked': 'Embarque'}, inplace = True)\n",
        "\n",
        "\n",
        "titanic.head()"
      ],
      "execution_count": 93,
      "outputs": [
        {
          "output_type": "execute_result",
          "data": {
            "text/html": [
              "<div>\n",
              "<style scoped>\n",
              "    .dataframe tbody tr th:only-of-type {\n",
              "        vertical-align: middle;\n",
              "    }\n",
              "\n",
              "    .dataframe tbody tr th {\n",
              "        vertical-align: top;\n",
              "    }\n",
              "\n",
              "    .dataframe thead th {\n",
              "        text-align: right;\n",
              "    }\n",
              "</style>\n",
              "<table border=\"1\" class=\"dataframe\">\n",
              "  <thead>\n",
              "    <tr style=\"text-align: right;\">\n",
              "      <th></th>\n",
              "      <th>Sobreviventes</th>\n",
              "      <th>Classe</th>\n",
              "      <th>Sexo</th>\n",
              "      <th>Idade</th>\n",
              "      <th>Familia</th>\n",
              "      <th>Parentes</th>\n",
              "      <th>Tarifa</th>\n",
              "      <th>Embarque</th>\n",
              "    </tr>\n",
              "  </thead>\n",
              "  <tbody>\n",
              "    <tr>\n",
              "      <th>0</th>\n",
              "      <td>0</td>\n",
              "      <td>3</td>\n",
              "      <td>male</td>\n",
              "      <td>22.0</td>\n",
              "      <td>1</td>\n",
              "      <td>0</td>\n",
              "      <td>7.2500</td>\n",
              "      <td>S</td>\n",
              "    </tr>\n",
              "    <tr>\n",
              "      <th>1</th>\n",
              "      <td>1</td>\n",
              "      <td>1</td>\n",
              "      <td>female</td>\n",
              "      <td>38.0</td>\n",
              "      <td>1</td>\n",
              "      <td>0</td>\n",
              "      <td>71.2833</td>\n",
              "      <td>C</td>\n",
              "    </tr>\n",
              "    <tr>\n",
              "      <th>2</th>\n",
              "      <td>1</td>\n",
              "      <td>3</td>\n",
              "      <td>female</td>\n",
              "      <td>26.0</td>\n",
              "      <td>0</td>\n",
              "      <td>0</td>\n",
              "      <td>7.9250</td>\n",
              "      <td>S</td>\n",
              "    </tr>\n",
              "    <tr>\n",
              "      <th>3</th>\n",
              "      <td>1</td>\n",
              "      <td>1</td>\n",
              "      <td>female</td>\n",
              "      <td>35.0</td>\n",
              "      <td>1</td>\n",
              "      <td>0</td>\n",
              "      <td>53.1000</td>\n",
              "      <td>S</td>\n",
              "    </tr>\n",
              "    <tr>\n",
              "      <th>4</th>\n",
              "      <td>0</td>\n",
              "      <td>3</td>\n",
              "      <td>male</td>\n",
              "      <td>35.0</td>\n",
              "      <td>0</td>\n",
              "      <td>0</td>\n",
              "      <td>8.0500</td>\n",
              "      <td>S</td>\n",
              "    </tr>\n",
              "  </tbody>\n",
              "</table>\n",
              "</div>"
            ],
            "text/plain": [
              "   Sobreviventes  Classe    Sexo  Idade  Familia  Parentes   Tarifa Embarque\n",
              "0              0       3    male   22.0        1         0   7.2500        S\n",
              "1              1       1  female   38.0        1         0  71.2833        C\n",
              "2              1       3  female   26.0        0         0   7.9250        S\n",
              "3              1       1  female   35.0        1         0  53.1000        S\n",
              "4              0       3    male   35.0        0         0   8.0500        S"
            ]
          },
          "metadata": {
            "tags": []
          },
          "execution_count": 93
        }
      ]
    },
    {
      "cell_type": "code",
      "metadata": {
        "id": "5hLs1tD-KrdS",
        "colab_type": "code",
        "colab": {
          "base_uri": "https://localhost:8080/",
          "height": 198
        },
        "outputId": "7786437d-ae78-4245-d654-405f5ab8b303"
      },
      "source": [
        "teste.rename(columns = {'Pclass': 'Classe'}, inplace = True)\n",
        "teste.rename(columns = {'Age':'Idade'}, inplace = True)\n",
        "teste.rename(columns = {'SibSp': 'Familia'}, inplace = True)\n",
        "teste.rename(columns = {'Parch' : 'Parentes'}, inplace = True)\n",
        "teste.rename(columns = {'Fare': 'Tarifa'}, inplace = True)\n",
        "teste.rename(columns = {'Sex': 'Sexo'}, inplace = True)\n",
        "teste.rename(columns = {'Embarked': 'Embarque'}, inplace = True)\n",
        "\n",
        "\n",
        "teste.head()"
      ],
      "execution_count": 94,
      "outputs": [
        {
          "output_type": "execute_result",
          "data": {
            "text/html": [
              "<div>\n",
              "<style scoped>\n",
              "    .dataframe tbody tr th:only-of-type {\n",
              "        vertical-align: middle;\n",
              "    }\n",
              "\n",
              "    .dataframe tbody tr th {\n",
              "        vertical-align: top;\n",
              "    }\n",
              "\n",
              "    .dataframe thead th {\n",
              "        text-align: right;\n",
              "    }\n",
              "</style>\n",
              "<table border=\"1\" class=\"dataframe\">\n",
              "  <thead>\n",
              "    <tr style=\"text-align: right;\">\n",
              "      <th></th>\n",
              "      <th>Classe</th>\n",
              "      <th>Sexo</th>\n",
              "      <th>Idade</th>\n",
              "      <th>Familia</th>\n",
              "      <th>Parentes</th>\n",
              "      <th>Tarifa</th>\n",
              "      <th>Embarque</th>\n",
              "    </tr>\n",
              "  </thead>\n",
              "  <tbody>\n",
              "    <tr>\n",
              "      <th>0</th>\n",
              "      <td>3</td>\n",
              "      <td>male</td>\n",
              "      <td>34.5</td>\n",
              "      <td>0</td>\n",
              "      <td>0</td>\n",
              "      <td>7.8292</td>\n",
              "      <td>Q</td>\n",
              "    </tr>\n",
              "    <tr>\n",
              "      <th>1</th>\n",
              "      <td>3</td>\n",
              "      <td>female</td>\n",
              "      <td>47.0</td>\n",
              "      <td>1</td>\n",
              "      <td>0</td>\n",
              "      <td>7.0000</td>\n",
              "      <td>S</td>\n",
              "    </tr>\n",
              "    <tr>\n",
              "      <th>2</th>\n",
              "      <td>2</td>\n",
              "      <td>male</td>\n",
              "      <td>62.0</td>\n",
              "      <td>0</td>\n",
              "      <td>0</td>\n",
              "      <td>9.6875</td>\n",
              "      <td>Q</td>\n",
              "    </tr>\n",
              "    <tr>\n",
              "      <th>3</th>\n",
              "      <td>3</td>\n",
              "      <td>male</td>\n",
              "      <td>27.0</td>\n",
              "      <td>0</td>\n",
              "      <td>0</td>\n",
              "      <td>8.6625</td>\n",
              "      <td>S</td>\n",
              "    </tr>\n",
              "    <tr>\n",
              "      <th>4</th>\n",
              "      <td>3</td>\n",
              "      <td>female</td>\n",
              "      <td>22.0</td>\n",
              "      <td>1</td>\n",
              "      <td>1</td>\n",
              "      <td>12.2875</td>\n",
              "      <td>S</td>\n",
              "    </tr>\n",
              "  </tbody>\n",
              "</table>\n",
              "</div>"
            ],
            "text/plain": [
              "   Classe    Sexo  Idade  Familia  Parentes   Tarifa Embarque\n",
              "0       3    male   34.5        0         0   7.8292        Q\n",
              "1       3  female   47.0        1         0   7.0000        S\n",
              "2       2    male   62.0        0         0   9.6875        Q\n",
              "3       3    male   27.0        0         0   8.6625        S\n",
              "4       3  female   22.0        1         1  12.2875        S"
            ]
          },
          "metadata": {
            "tags": []
          },
          "execution_count": 94
        }
      ]
    },
    {
      "cell_type": "code",
      "metadata": {
        "id": "2_D5eC0xK_Lg",
        "colab_type": "code",
        "colab": {
          "base_uri": "https://localhost:8080/",
          "height": 290
        },
        "outputId": "5844a65f-f84d-4594-9a3c-f3faae1820ff"
      },
      "source": [
        "titanic.info()"
      ],
      "execution_count": 8,
      "outputs": [
        {
          "output_type": "stream",
          "text": [
            "<class 'pandas.core.frame.DataFrame'>\n",
            "RangeIndex: 891 entries, 0 to 890\n",
            "Data columns (total 8 columns):\n",
            " #   Column         Non-Null Count  Dtype  \n",
            "---  ------         --------------  -----  \n",
            " 0   Sobreviventes  891 non-null    int64  \n",
            " 1   Classe         891 non-null    int64  \n",
            " 2   Sexo           891 non-null    object \n",
            " 3   Idade          714 non-null    float64\n",
            " 4   Familia        891 non-null    int64  \n",
            " 5   Parentes       891 non-null    int64  \n",
            " 6   Tarifa         891 non-null    float64\n",
            " 7   Embarque       889 non-null    object \n",
            "dtypes: float64(2), int64(4), object(2)\n",
            "memory usage: 55.8+ KB\n"
          ],
          "name": "stdout"
        }
      ]
    },
    {
      "cell_type": "code",
      "metadata": {
        "id": "M0r8AnhVLEBU",
        "colab_type": "code",
        "colab": {
          "base_uri": "https://localhost:8080/",
          "height": 272
        },
        "outputId": "a46743b4-c848-4f3c-c032-b7a4cffd5a5a"
      },
      "source": [
        "teste.info()"
      ],
      "execution_count": 9,
      "outputs": [
        {
          "output_type": "stream",
          "text": [
            "<class 'pandas.core.frame.DataFrame'>\n",
            "RangeIndex: 418 entries, 0 to 417\n",
            "Data columns (total 7 columns):\n",
            " #   Column    Non-Null Count  Dtype  \n",
            "---  ------    --------------  -----  \n",
            " 0   Classe    418 non-null    int64  \n",
            " 1   Sexo      418 non-null    object \n",
            " 2   Idade     332 non-null    float64\n",
            " 3   Familia   418 non-null    int64  \n",
            " 4   Parentes  418 non-null    int64  \n",
            " 5   Tarifa    417 non-null    float64\n",
            " 6   Embarque  418 non-null    object \n",
            "dtypes: float64(2), int64(3), object(2)\n",
            "memory usage: 23.0+ KB\n"
          ],
          "name": "stdout"
        }
      ]
    },
    {
      "cell_type": "code",
      "metadata": {
        "id": "Gcbm4xMc6Zai",
        "colab_type": "code",
        "colab": {
          "base_uri": "https://localhost:8080/",
          "height": 228
        },
        "outputId": "d2a10ff5-8fae-445a-f1f3-08ecf1ae7e31"
      },
      "source": [
        "titanic.corr()"
      ],
      "execution_count": 10,
      "outputs": [
        {
          "output_type": "execute_result",
          "data": {
            "text/html": [
              "<div>\n",
              "<style scoped>\n",
              "    .dataframe tbody tr th:only-of-type {\n",
              "        vertical-align: middle;\n",
              "    }\n",
              "\n",
              "    .dataframe tbody tr th {\n",
              "        vertical-align: top;\n",
              "    }\n",
              "\n",
              "    .dataframe thead th {\n",
              "        text-align: right;\n",
              "    }\n",
              "</style>\n",
              "<table border=\"1\" class=\"dataframe\">\n",
              "  <thead>\n",
              "    <tr style=\"text-align: right;\">\n",
              "      <th></th>\n",
              "      <th>Sobreviventes</th>\n",
              "      <th>Classe</th>\n",
              "      <th>Idade</th>\n",
              "      <th>Familia</th>\n",
              "      <th>Parentes</th>\n",
              "      <th>Tarifa</th>\n",
              "    </tr>\n",
              "  </thead>\n",
              "  <tbody>\n",
              "    <tr>\n",
              "      <th>Sobreviventes</th>\n",
              "      <td>1.000000</td>\n",
              "      <td>-0.338481</td>\n",
              "      <td>-0.077221</td>\n",
              "      <td>-0.035322</td>\n",
              "      <td>0.081629</td>\n",
              "      <td>0.257307</td>\n",
              "    </tr>\n",
              "    <tr>\n",
              "      <th>Classe</th>\n",
              "      <td>-0.338481</td>\n",
              "      <td>1.000000</td>\n",
              "      <td>-0.369226</td>\n",
              "      <td>0.083081</td>\n",
              "      <td>0.018443</td>\n",
              "      <td>-0.549500</td>\n",
              "    </tr>\n",
              "    <tr>\n",
              "      <th>Idade</th>\n",
              "      <td>-0.077221</td>\n",
              "      <td>-0.369226</td>\n",
              "      <td>1.000000</td>\n",
              "      <td>-0.308247</td>\n",
              "      <td>-0.189119</td>\n",
              "      <td>0.096067</td>\n",
              "    </tr>\n",
              "    <tr>\n",
              "      <th>Familia</th>\n",
              "      <td>-0.035322</td>\n",
              "      <td>0.083081</td>\n",
              "      <td>-0.308247</td>\n",
              "      <td>1.000000</td>\n",
              "      <td>0.414838</td>\n",
              "      <td>0.159651</td>\n",
              "    </tr>\n",
              "    <tr>\n",
              "      <th>Parentes</th>\n",
              "      <td>0.081629</td>\n",
              "      <td>0.018443</td>\n",
              "      <td>-0.189119</td>\n",
              "      <td>0.414838</td>\n",
              "      <td>1.000000</td>\n",
              "      <td>0.216225</td>\n",
              "    </tr>\n",
              "    <tr>\n",
              "      <th>Tarifa</th>\n",
              "      <td>0.257307</td>\n",
              "      <td>-0.549500</td>\n",
              "      <td>0.096067</td>\n",
              "      <td>0.159651</td>\n",
              "      <td>0.216225</td>\n",
              "      <td>1.000000</td>\n",
              "    </tr>\n",
              "  </tbody>\n",
              "</table>\n",
              "</div>"
            ],
            "text/plain": [
              "               Sobreviventes    Classe     Idade   Familia  Parentes    Tarifa\n",
              "Sobreviventes       1.000000 -0.338481 -0.077221 -0.035322  0.081629  0.257307\n",
              "Classe             -0.338481  1.000000 -0.369226  0.083081  0.018443 -0.549500\n",
              "Idade              -0.077221 -0.369226  1.000000 -0.308247 -0.189119  0.096067\n",
              "Familia            -0.035322  0.083081 -0.308247  1.000000  0.414838  0.159651\n",
              "Parentes            0.081629  0.018443 -0.189119  0.414838  1.000000  0.216225\n",
              "Tarifa              0.257307 -0.549500  0.096067  0.159651  0.216225  1.000000"
            ]
          },
          "metadata": {
            "tags": []
          },
          "execution_count": 10
        }
      ]
    },
    {
      "cell_type": "code",
      "metadata": {
        "id": "KRydPJCyN9Dr",
        "colab_type": "code",
        "colab": {}
      },
      "source": [
        "titanic[['Classe','Idade','Tarifa']].groupby([titanic['Sobreviventes'], titanic['Sexo']]).describe().round(2)"
      ],
      "execution_count": null,
      "outputs": []
    },
    {
      "cell_type": "code",
      "metadata": {
        "id": "y3HsaYahByap",
        "colab_type": "code",
        "colab": {
          "base_uri": "https://localhost:8080/",
          "height": 198
        },
        "outputId": "16406d22-b2e6-40b5-ffbd-da28069d785b"
      },
      "source": [
        "titanic['Tarifa'].groupby([titanic['Sobreviventes'], titanic['Sexo']]).describe()"
      ],
      "execution_count": 30,
      "outputs": [
        {
          "output_type": "execute_result",
          "data": {
            "text/html": [
              "<div>\n",
              "<style scoped>\n",
              "    .dataframe tbody tr th:only-of-type {\n",
              "        vertical-align: middle;\n",
              "    }\n",
              "\n",
              "    .dataframe tbody tr th {\n",
              "        vertical-align: top;\n",
              "    }\n",
              "\n",
              "    .dataframe thead th {\n",
              "        text-align: right;\n",
              "    }\n",
              "</style>\n",
              "<table border=\"1\" class=\"dataframe\">\n",
              "  <thead>\n",
              "    <tr style=\"text-align: right;\">\n",
              "      <th></th>\n",
              "      <th></th>\n",
              "      <th>count</th>\n",
              "      <th>mean</th>\n",
              "      <th>std</th>\n",
              "      <th>min</th>\n",
              "      <th>25%</th>\n",
              "      <th>50%</th>\n",
              "      <th>75%</th>\n",
              "      <th>max</th>\n",
              "    </tr>\n",
              "    <tr>\n",
              "      <th>Sobreviventes</th>\n",
              "      <th>Sexo</th>\n",
              "      <th></th>\n",
              "      <th></th>\n",
              "      <th></th>\n",
              "      <th></th>\n",
              "      <th></th>\n",
              "      <th></th>\n",
              "      <th></th>\n",
              "      <th></th>\n",
              "    </tr>\n",
              "  </thead>\n",
              "  <tbody>\n",
              "    <tr>\n",
              "      <th rowspan=\"2\" valign=\"top\">0</th>\n",
              "      <th>female</th>\n",
              "      <td>81.0</td>\n",
              "      <td>23.024385</td>\n",
              "      <td>24.821287</td>\n",
              "      <td>6.750</td>\n",
              "      <td>8.8500</td>\n",
              "      <td>15.24580</td>\n",
              "      <td>27.9000</td>\n",
              "      <td>151.5500</td>\n",
              "    </tr>\n",
              "    <tr>\n",
              "      <th>male</th>\n",
              "      <td>468.0</td>\n",
              "      <td>21.960993</td>\n",
              "      <td>32.409799</td>\n",
              "      <td>0.000</td>\n",
              "      <td>7.7958</td>\n",
              "      <td>9.41665</td>\n",
              "      <td>26.0000</td>\n",
              "      <td>263.0000</td>\n",
              "    </tr>\n",
              "    <tr>\n",
              "      <th rowspan=\"2\" valign=\"top\">1</th>\n",
              "      <th>female</th>\n",
              "      <td>233.0</td>\n",
              "      <td>51.938573</td>\n",
              "      <td>64.102256</td>\n",
              "      <td>7.225</td>\n",
              "      <td>13.0000</td>\n",
              "      <td>26.00000</td>\n",
              "      <td>76.2917</td>\n",
              "      <td>512.3292</td>\n",
              "    </tr>\n",
              "    <tr>\n",
              "      <th>male</th>\n",
              "      <td>109.0</td>\n",
              "      <td>40.821484</td>\n",
              "      <td>71.355967</td>\n",
              "      <td>0.000</td>\n",
              "      <td>9.5000</td>\n",
              "      <td>26.28750</td>\n",
              "      <td>39.0000</td>\n",
              "      <td>512.3292</td>\n",
              "    </tr>\n",
              "  </tbody>\n",
              "</table>\n",
              "</div>"
            ],
            "text/plain": [
              "                      count       mean        std  ...       50%      75%       max\n",
              "Sobreviventes Sexo                                 ...                             \n",
              "0             female   81.0  23.024385  24.821287  ...  15.24580  27.9000  151.5500\n",
              "              male    468.0  21.960993  32.409799  ...   9.41665  26.0000  263.0000\n",
              "1             female  233.0  51.938573  64.102256  ...  26.00000  76.2917  512.3292\n",
              "              male    109.0  40.821484  71.355967  ...  26.28750  39.0000  512.3292\n",
              "\n",
              "[4 rows x 8 columns]"
            ]
          },
          "metadata": {
            "tags": []
          },
          "execution_count": 30
        }
      ]
    },
    {
      "cell_type": "code",
      "metadata": {
        "id": "JDT2H7UPC_Wc",
        "colab_type": "code",
        "colab": {
          "base_uri": "https://localhost:8080/",
          "height": 288
        },
        "outputId": "deec7d9a-3088-47f9-f7cb-2e165fe888d6"
      },
      "source": [
        "titanic[titanic['Tarifa'] == 0].describe()"
      ],
      "execution_count": 99,
      "outputs": [
        {
          "output_type": "execute_result",
          "data": {
            "text/html": [
              "<div>\n",
              "<style scoped>\n",
              "    .dataframe tbody tr th:only-of-type {\n",
              "        vertical-align: middle;\n",
              "    }\n",
              "\n",
              "    .dataframe tbody tr th {\n",
              "        vertical-align: top;\n",
              "    }\n",
              "\n",
              "    .dataframe thead th {\n",
              "        text-align: right;\n",
              "    }\n",
              "</style>\n",
              "<table border=\"1\" class=\"dataframe\">\n",
              "  <thead>\n",
              "    <tr style=\"text-align: right;\">\n",
              "      <th></th>\n",
              "      <th>Sobreviventes</th>\n",
              "      <th>Classe</th>\n",
              "      <th>Idade</th>\n",
              "      <th>Familia</th>\n",
              "      <th>Parentes</th>\n",
              "      <th>Tarifa</th>\n",
              "    </tr>\n",
              "  </thead>\n",
              "  <tbody>\n",
              "    <tr>\n",
              "      <th>count</th>\n",
              "      <td>15.000000</td>\n",
              "      <td>15.000000</td>\n",
              "      <td>7.000000</td>\n",
              "      <td>15.0</td>\n",
              "      <td>15.0</td>\n",
              "      <td>15.0</td>\n",
              "    </tr>\n",
              "    <tr>\n",
              "      <th>mean</th>\n",
              "      <td>0.066667</td>\n",
              "      <td>1.933333</td>\n",
              "      <td>35.142857</td>\n",
              "      <td>0.0</td>\n",
              "      <td>0.0</td>\n",
              "      <td>0.0</td>\n",
              "    </tr>\n",
              "    <tr>\n",
              "      <th>std</th>\n",
              "      <td>0.258199</td>\n",
              "      <td>0.798809</td>\n",
              "      <td>10.023781</td>\n",
              "      <td>0.0</td>\n",
              "      <td>0.0</td>\n",
              "      <td>0.0</td>\n",
              "    </tr>\n",
              "    <tr>\n",
              "      <th>min</th>\n",
              "      <td>0.000000</td>\n",
              "      <td>1.000000</td>\n",
              "      <td>19.000000</td>\n",
              "      <td>0.0</td>\n",
              "      <td>0.0</td>\n",
              "      <td>0.0</td>\n",
              "    </tr>\n",
              "    <tr>\n",
              "      <th>25%</th>\n",
              "      <td>0.000000</td>\n",
              "      <td>1.000000</td>\n",
              "      <td>30.500000</td>\n",
              "      <td>0.0</td>\n",
              "      <td>0.0</td>\n",
              "      <td>0.0</td>\n",
              "    </tr>\n",
              "    <tr>\n",
              "      <th>50%</th>\n",
              "      <td>0.000000</td>\n",
              "      <td>2.000000</td>\n",
              "      <td>38.000000</td>\n",
              "      <td>0.0</td>\n",
              "      <td>0.0</td>\n",
              "      <td>0.0</td>\n",
              "    </tr>\n",
              "    <tr>\n",
              "      <th>75%</th>\n",
              "      <td>0.000000</td>\n",
              "      <td>2.500000</td>\n",
              "      <td>39.500000</td>\n",
              "      <td>0.0</td>\n",
              "      <td>0.0</td>\n",
              "      <td>0.0</td>\n",
              "    </tr>\n",
              "    <tr>\n",
              "      <th>max</th>\n",
              "      <td>1.000000</td>\n",
              "      <td>3.000000</td>\n",
              "      <td>49.000000</td>\n",
              "      <td>0.0</td>\n",
              "      <td>0.0</td>\n",
              "      <td>0.0</td>\n",
              "    </tr>\n",
              "  </tbody>\n",
              "</table>\n",
              "</div>"
            ],
            "text/plain": [
              "       Sobreviventes     Classe      Idade  Familia  Parentes  Tarifa\n",
              "count      15.000000  15.000000   7.000000     15.0      15.0    15.0\n",
              "mean        0.066667   1.933333  35.142857      0.0       0.0     0.0\n",
              "std         0.258199   0.798809  10.023781      0.0       0.0     0.0\n",
              "min         0.000000   1.000000  19.000000      0.0       0.0     0.0\n",
              "25%         0.000000   1.000000  30.500000      0.0       0.0     0.0\n",
              "50%         0.000000   2.000000  38.000000      0.0       0.0     0.0\n",
              "75%         0.000000   2.500000  39.500000      0.0       0.0     0.0\n",
              "max         1.000000   3.000000  49.000000      0.0       0.0     0.0"
            ]
          },
          "metadata": {
            "tags": []
          },
          "execution_count": 99
        }
      ]
    },
    {
      "cell_type": "code",
      "metadata": {
        "id": "_fn8KdCwBsVG",
        "colab_type": "code",
        "colab": {
          "base_uri": "https://localhost:8080/",
          "height": 181
        },
        "outputId": "3dcc8c7f-c5e6-41ff-fb8a-a5a63d0ba37a"
      },
      "source": [
        "titanic.isnull().mean()"
      ],
      "execution_count": 13,
      "outputs": [
        {
          "output_type": "execute_result",
          "data": {
            "text/plain": [
              "Sobreviventes    0.000000\n",
              "Classe           0.000000\n",
              "Sexo             0.000000\n",
              "Idade            0.198653\n",
              "Familia          0.000000\n",
              "Parentes         0.000000\n",
              "Tarifa           0.000000\n",
              "Embarque         0.002245\n",
              "dtype: float64"
            ]
          },
          "metadata": {
            "tags": []
          },
          "execution_count": 13
        }
      ]
    },
    {
      "cell_type": "code",
      "metadata": {
        "id": "pq0b-pa2LUNu",
        "colab_type": "code",
        "colab": {
          "base_uri": "https://localhost:8080/",
          "height": 163
        },
        "outputId": "92ecfccb-2fa3-42a0-f5a1-98518341f7bd"
      },
      "source": [
        "teste.isnull().mean()"
      ],
      "execution_count": 14,
      "outputs": [
        {
          "output_type": "execute_result",
          "data": {
            "text/plain": [
              "Classe      0.000000\n",
              "Sexo        0.000000\n",
              "Idade       0.205742\n",
              "Familia     0.000000\n",
              "Parentes    0.000000\n",
              "Tarifa      0.002392\n",
              "Embarque    0.000000\n",
              "dtype: float64"
            ]
          },
          "metadata": {
            "tags": []
          },
          "execution_count": 14
        }
      ]
    },
    {
      "cell_type": "code",
      "metadata": {
        "id": "2QMtT-b2Uh0v",
        "colab_type": "code",
        "colab": {
          "base_uri": "https://localhost:8080/",
          "height": 290
        },
        "outputId": "70ba2ac6-0e0d-4439-9110-d6ce66122bd3"
      },
      "source": [
        "eda = titanic.dropna()\n",
        "eda.info()"
      ],
      "execution_count": 15,
      "outputs": [
        {
          "output_type": "stream",
          "text": [
            "<class 'pandas.core.frame.DataFrame'>\n",
            "Int64Index: 712 entries, 0 to 890\n",
            "Data columns (total 8 columns):\n",
            " #   Column         Non-Null Count  Dtype  \n",
            "---  ------         --------------  -----  \n",
            " 0   Sobreviventes  712 non-null    int64  \n",
            " 1   Classe         712 non-null    int64  \n",
            " 2   Sexo           712 non-null    object \n",
            " 3   Idade          712 non-null    float64\n",
            " 4   Familia        712 non-null    int64  \n",
            " 5   Parentes       712 non-null    int64  \n",
            " 6   Tarifa         712 non-null    float64\n",
            " 7   Embarque       712 non-null    object \n",
            "dtypes: float64(2), int64(4), object(2)\n",
            "memory usage: 50.1+ KB\n"
          ],
          "name": "stdout"
        }
      ]
    },
    {
      "cell_type": "code",
      "metadata": {
        "id": "zPPfwMMFOyth",
        "colab_type": "code",
        "colab": {
          "base_uri": "https://localhost:8080/",
          "height": 496
        },
        "outputId": "1bfa0891-66c1-4053-a2c3-7136cd5a6d41"
      },
      "source": [
        "import matplotlib.pyplot as plt\n",
        "import seaborn as sns\n",
        "\n",
        "plt.style.use('ggplot')\n",
        "plt.figure(figsize=(12,7))\n",
        "\n",
        "plt.subplot(2,2,1)\n",
        "plt.hist(eda[ eda['Sobreviventes'] == 0 ]['Idade'], alpha = .75)\n",
        "plt.hist(eda[eda['Sobreviventes'] == 1]['Idade'], alpha = .75)\n",
        "plt.title('Histograma da Idade', size = 15)\n",
        "\n",
        "\n",
        "plt.subplot(2,2,2)\n",
        "sns.boxplot(x = 'Sobreviventes', y = 'Tarifa', data = eda)\n",
        "plt.title('Boxplots das tarifas pagas por sobreviventes e mortos')\n",
        "\n",
        "plt.subplot(2,2,3)\n",
        "sns.barplot(x = 'Sobreviventes', y = 'Sexo', data = eda)\n",
        "plt.title('Comparação dos sexos em relação à sobrevivencia', size = 15)\n",
        "\n",
        "plt.subplot(2,2,4)\n",
        "sns.barplot(x = 'Sobreviventes', y = 'Embarque', data = eda)\n",
        "plt.title('Comparação dos sexos em relação à sobrevivencia', size = 15)\n",
        "\n",
        "plt.tight_layout()\n",
        "plt.show() "
      ],
      "execution_count": 21,
      "outputs": [
        {
          "output_type": "display_data",
          "data": {
            "image/png": "[encoded data removed]",
            "text/plain": [
              "<Figure size 864x504 with 4 Axes>"
            ]
          },
          "metadata": {
            "tags": []
          }
        }
      ]
    },
    {
      "cell_type": "markdown",
      "metadata": {
        "id": "6DRfTQlW7UZ6",
        "colab_type": "text"
      },
      "source": [
        "### Algumas observações:\n",
        "*   As variáveis idade e embarque possuem alguns valores faltantes no conjunto de treino. No conjunto de teste também há valores faltantes na variável tarifa; \n",
        "*   As variáveis classe e tarifa possuem as maiores correlações com a variável Sobreviventes;\n",
        "*   Metade dos passageiros tinham mais de 28 anos (com um desvio padrão de 14,5 anos)\n",
        "*   Metade dos passageiros pagaram mais de 14,45 (com um desvio padrão de 49,70)\n",
        "*   É interessante notar que existem 15 pessoas na base de dados que não pagaram tarifa, todos homens. Deles quatro eram da classe 3, e o único sobrevivente é dessa classe.\n",
        "*   De 890 passageiros no conjunto de treino temos apenas 360 sobreviventes \n",
        "*   A distribuição dos mortos está mais concentrada nos passageiros cuja tarifa está abaixo de 100. Ao compararmos vemos q os sobreviventes tendem a pagar mais.\n",
        "*   Apenas 20,53% dos homens sobreviveram. Por outro lado, 75,29% das mulheres sobreviveram\n",
        "*   60,77% dos que embarcaram na estação C sobreviveram. Apenas 28,57% dos que embarcaram na Q sobreviveram e a S tem 36% de sobreviventes.\n"
      ]
    },
    {
      "cell_type": "markdown",
      "metadata": {
        "id": "yIkzmtad5d0Z",
        "colab_type": "text"
      },
      "source": [
        "##Pre-processamento dos dados"
      ]
    },
    {
      "cell_type": "markdown",
      "metadata": {
        "id": "mhVwYO-_eS5R",
        "colab_type": "text"
      },
      "source": [
        "###Lidando com os dados faltantes"
      ]
    },
    {
      "cell_type": "code",
      "metadata": {
        "id": "P1sjR9lZ6uSk",
        "colab_type": "code",
        "colab": {}
      },
      "source": [
        "import missingno as msno\n",
        "msno.matrix(titanic);"
      ],
      "execution_count": null,
      "outputs": []
    },
    {
      "cell_type": "code",
      "metadata": {
        "id": "OkbAMrFd7HrP",
        "colab_type": "code",
        "colab": {}
      },
      "source": [
        "msno.matrix(teste)"
      ],
      "execution_count": null,
      "outputs": []
    },
    {
      "cell_type": "code",
      "metadata": {
        "id": "KWwweW537ZjR",
        "colab_type": "code",
        "colab": {}
      },
      "source": [
        "moda_emb = titanic['Embarque'].mode()[0]\n",
        "\n",
        "for dataset in datasets:\n",
        "  dataset['Embarque'] = dataset['Embarque'].fillna(moda_emb)\n",
        "\n"
      ],
      "execution_count": 63,
      "outputs": []
    },
    {
      "cell_type": "markdown",
      "metadata": {
        "id": "HqMxUiqJJk-6",
        "colab_type": "text"
      },
      "source": [
        "####Usando o knn para preencher valores missing das variáveis contínuas"
      ]
    },
    {
      "cell_type": "code",
      "metadata": {
        "id": "i0P86lGb-32Y",
        "colab_type": "code",
        "colab": {
          "base_uri": "https://localhost:8080/",
          "height": 272
        },
        "outputId": "3bf24998-007e-4313-faf9-f3f8861a0e9c"
      },
      "source": [
        "#Treino\n",
        "df_numeric = titanic.select_dtypes(include = [np.float])\n",
        "from fancyimpute import KNN\n",
        "\n",
        "imputer = KNN(9)\n",
        "\n",
        "df_filled = pd.DataFrame(imputer.fit_transform(df_numeric))\n",
        "df_filled.columns = df_numeric.columns\n",
        "df_filled.index = df_numeric.index\n",
        "\n",
        "#Teste\n",
        "df_numeric2 = teste.select_dtypes(include = [np.float])\n",
        "\n",
        "df_filled2 = pd.DataFrame(imputer.fit_transform(df_numeric2))\n",
        "df_filled2.columns = df_numeric2.columns\n",
        "df_filled2.index = df_numeric2.index\n"
      ],
      "execution_count": 64,
      "outputs": [
        {
          "output_type": "stream",
          "text": [
            "Imputing row 1/891 with 0 missing, elapsed time: 0.104\n",
            "Imputing row 101/891 with 0 missing, elapsed time: 0.105\n",
            "Imputing row 201/891 with 0 missing, elapsed time: 0.106\n",
            "Imputing row 301/891 with 1 missing, elapsed time: 0.107\n",
            "Imputing row 401/891 with 0 missing, elapsed time: 0.108\n",
            "Imputing row 501/891 with 0 missing, elapsed time: 0.109\n",
            "Imputing row 601/891 with 0 missing, elapsed time: 0.111\n",
            "Imputing row 701/891 with 0 missing, elapsed time: 0.111\n",
            "Imputing row 801/891 with 0 missing, elapsed time: 0.112\n",
            "Imputing row 1/418 with 0 missing, elapsed time: 0.033\n",
            "Imputing row 101/418 with 0 missing, elapsed time: 0.034\n",
            "Imputing row 201/418 with 1 missing, elapsed time: 0.036\n",
            "Imputing row 301/418 with 0 missing, elapsed time: 0.038\n",
            "Imputing row 401/418 with 0 missing, elapsed time: 0.039\n"
          ],
          "name": "stdout"
        }
      ]
    },
    {
      "cell_type": "code",
      "metadata": {
        "id": "xHyzaxOAJDgE",
        "colab_type": "code",
        "colab": {}
      },
      "source": [
        "titanic['Idade'] = df_filled['Idade']\n",
        "titanic['Tarifa'] = df_filled['Tarifa']\n",
        "teste['Idade'] = df_filled2['Idade']\n",
        "teste['Tarifa'] = df_filled2['Tarifa']"
      ],
      "execution_count": 65,
      "outputs": []
    },
    {
      "cell_type": "markdown",
      "metadata": {
        "id": "mAWeRtsxJpGX",
        "colab_type": "text"
      },
      "source": [
        "### Trocando a variavel sexo por valores binários"
      ]
    },
    {
      "cell_type": "code",
      "metadata": {
        "id": "RtQub-u0JgaV",
        "colab_type": "code",
        "colab": {
          "base_uri": "https://localhost:8080/",
          "height": 198
        },
        "outputId": "68f8236a-6e43-498b-8cac-bad3b9482596"
      },
      "source": [
        "for dataset in datasets:\n",
        "  dataset['Sexo'] = dataset['Sexo'].map({'male':0, 'female': 1})\n",
        "\n",
        "titanic.head()"
      ],
      "execution_count": 66,
      "outputs": [
        {
          "output_type": "execute_result",
          "data": {
            "text/html": [
              "<div>\n",
              "<style scoped>\n",
              "    .dataframe tbody tr th:only-of-type {\n",
              "        vertical-align: middle;\n",
              "    }\n",
              "\n",
              "    .dataframe tbody tr th {\n",
              "        vertical-align: top;\n",
              "    }\n",
              "\n",
              "    .dataframe thead th {\n",
              "        text-align: right;\n",
              "    }\n",
              "</style>\n",
              "<table border=\"1\" class=\"dataframe\">\n",
              "  <thead>\n",
              "    <tr style=\"text-align: right;\">\n",
              "      <th></th>\n",
              "      <th>Sobreviventes</th>\n",
              "      <th>Classe</th>\n",
              "      <th>Sexo</th>\n",
              "      <th>Idade</th>\n",
              "      <th>Familia</th>\n",
              "      <th>Parentes</th>\n",
              "      <th>Tarifa</th>\n",
              "      <th>Embarque</th>\n",
              "    </tr>\n",
              "  </thead>\n",
              "  <tbody>\n",
              "    <tr>\n",
              "      <th>0</th>\n",
              "      <td>0</td>\n",
              "      <td>3</td>\n",
              "      <td>0</td>\n",
              "      <td>22.0</td>\n",
              "      <td>1</td>\n",
              "      <td>0</td>\n",
              "      <td>7.2500</td>\n",
              "      <td>S</td>\n",
              "    </tr>\n",
              "    <tr>\n",
              "      <th>1</th>\n",
              "      <td>1</td>\n",
              "      <td>1</td>\n",
              "      <td>1</td>\n",
              "      <td>38.0</td>\n",
              "      <td>1</td>\n",
              "      <td>0</td>\n",
              "      <td>71.2833</td>\n",
              "      <td>C</td>\n",
              "    </tr>\n",
              "    <tr>\n",
              "      <th>2</th>\n",
              "      <td>1</td>\n",
              "      <td>3</td>\n",
              "      <td>1</td>\n",
              "      <td>26.0</td>\n",
              "      <td>0</td>\n",
              "      <td>0</td>\n",
              "      <td>7.9250</td>\n",
              "      <td>S</td>\n",
              "    </tr>\n",
              "    <tr>\n",
              "      <th>3</th>\n",
              "      <td>1</td>\n",
              "      <td>1</td>\n",
              "      <td>1</td>\n",
              "      <td>35.0</td>\n",
              "      <td>1</td>\n",
              "      <td>0</td>\n",
              "      <td>53.1000</td>\n",
              "      <td>S</td>\n",
              "    </tr>\n",
              "    <tr>\n",
              "      <th>4</th>\n",
              "      <td>0</td>\n",
              "      <td>3</td>\n",
              "      <td>0</td>\n",
              "      <td>35.0</td>\n",
              "      <td>0</td>\n",
              "      <td>0</td>\n",
              "      <td>8.0500</td>\n",
              "      <td>S</td>\n",
              "    </tr>\n",
              "  </tbody>\n",
              "</table>\n",
              "</div>"
            ],
            "text/plain": [
              "   Sobreviventes  Classe  Sexo  Idade  Familia  Parentes   Tarifa Embarque\n",
              "0              0       3     0   22.0        1         0   7.2500        S\n",
              "1              1       1     1   38.0        1         0  71.2833        C\n",
              "2              1       3     1   26.0        0         0   7.9250        S\n",
              "3              1       1     1   35.0        1         0  53.1000        S\n",
              "4              0       3     0   35.0        0         0   8.0500        S"
            ]
          },
          "metadata": {
            "tags": []
          },
          "execution_count": 66
        }
      ]
    },
    {
      "cell_type": "markdown",
      "metadata": {
        "id": "tVA5VcsmKdkH",
        "colab_type": "text"
      },
      "source": [
        "###Dummyficação da variável Embarque"
      ]
    },
    {
      "cell_type": "code",
      "metadata": {
        "id": "yNjvI_-9KWuc",
        "colab_type": "code",
        "colab": {}
      },
      "source": [
        "titanic = pd.get_dummies(titanic, columns = ['Embarque'], drop_first = True)\n",
        "teste = pd.get_dummies(teste, columns = ['Embarque'], drop_first = True)"
      ],
      "execution_count": 67,
      "outputs": []
    },
    {
      "cell_type": "code",
      "metadata": {
        "id": "ufbC-oaHLi6-",
        "colab_type": "code",
        "colab": {
          "base_uri": "https://localhost:8080/",
          "height": 198
        },
        "outputId": "ae196270-8bbe-4fb3-f222-7d665f9c67a5"
      },
      "source": [
        "titanic.head()"
      ],
      "execution_count": 68,
      "outputs": [
        {
          "output_type": "execute_result",
          "data": {
            "text/html": [
              "<div>\n",
              "<style scoped>\n",
              "    .dataframe tbody tr th:only-of-type {\n",
              "        vertical-align: middle;\n",
              "    }\n",
              "\n",
              "    .dataframe tbody tr th {\n",
              "        vertical-align: top;\n",
              "    }\n",
              "\n",
              "    .dataframe thead th {\n",
              "        text-align: right;\n",
              "    }\n",
              "</style>\n",
              "<table border=\"1\" class=\"dataframe\">\n",
              "  <thead>\n",
              "    <tr style=\"text-align: right;\">\n",
              "      <th></th>\n",
              "      <th>Sobreviventes</th>\n",
              "      <th>Classe</th>\n",
              "      <th>Sexo</th>\n",
              "      <th>Idade</th>\n",
              "      <th>Familia</th>\n",
              "      <th>Parentes</th>\n",
              "      <th>Tarifa</th>\n",
              "      <th>Embarque_Q</th>\n",
              "      <th>Embarque_S</th>\n",
              "    </tr>\n",
              "  </thead>\n",
              "  <tbody>\n",
              "    <tr>\n",
              "      <th>0</th>\n",
              "      <td>0</td>\n",
              "      <td>3</td>\n",
              "      <td>0</td>\n",
              "      <td>22.0</td>\n",
              "      <td>1</td>\n",
              "      <td>0</td>\n",
              "      <td>7.2500</td>\n",
              "      <td>0</td>\n",
              "      <td>1</td>\n",
              "    </tr>\n",
              "    <tr>\n",
              "      <th>1</th>\n",
              "      <td>1</td>\n",
              "      <td>1</td>\n",
              "      <td>1</td>\n",
              "      <td>38.0</td>\n",
              "      <td>1</td>\n",
              "      <td>0</td>\n",
              "      <td>71.2833</td>\n",
              "      <td>0</td>\n",
              "      <td>0</td>\n",
              "    </tr>\n",
              "    <tr>\n",
              "      <th>2</th>\n",
              "      <td>1</td>\n",
              "      <td>3</td>\n",
              "      <td>1</td>\n",
              "      <td>26.0</td>\n",
              "      <td>0</td>\n",
              "      <td>0</td>\n",
              "      <td>7.9250</td>\n",
              "      <td>0</td>\n",
              "      <td>1</td>\n",
              "    </tr>\n",
              "    <tr>\n",
              "      <th>3</th>\n",
              "      <td>1</td>\n",
              "      <td>1</td>\n",
              "      <td>1</td>\n",
              "      <td>35.0</td>\n",
              "      <td>1</td>\n",
              "      <td>0</td>\n",
              "      <td>53.1000</td>\n",
              "      <td>0</td>\n",
              "      <td>1</td>\n",
              "    </tr>\n",
              "    <tr>\n",
              "      <th>4</th>\n",
              "      <td>0</td>\n",
              "      <td>3</td>\n",
              "      <td>0</td>\n",
              "      <td>35.0</td>\n",
              "      <td>0</td>\n",
              "      <td>0</td>\n",
              "      <td>8.0500</td>\n",
              "      <td>0</td>\n",
              "      <td>1</td>\n",
              "    </tr>\n",
              "  </tbody>\n",
              "</table>\n",
              "</div>"
            ],
            "text/plain": [
              "   Sobreviventes  Classe  Sexo  ...   Tarifa  Embarque_Q  Embarque_S\n",
              "0              0       3     0  ...   7.2500           0           1\n",
              "1              1       1     1  ...  71.2833           0           0\n",
              "2              1       3     1  ...   7.9250           0           1\n",
              "3              1       1     1  ...  53.1000           0           1\n",
              "4              0       3     0  ...   8.0500           0           1\n",
              "\n",
              "[5 rows x 9 columns]"
            ]
          },
          "metadata": {
            "tags": []
          },
          "execution_count": 68
        }
      ]
    },
    {
      "cell_type": "markdown",
      "metadata": {
        "id": "udzk1XX_L_vW",
        "colab_type": "text"
      },
      "source": [
        "###Padronizando variáveis contínuas"
      ]
    },
    {
      "cell_type": "code",
      "metadata": {
        "id": "XYNy2hS1L9Pu",
        "colab_type": "code",
        "colab": {}
      },
      "source": [
        "from sklearn.preprocessing import StandardScaler\n",
        "sc = StandardScaler() "
      ],
      "execution_count": 69,
      "outputs": []
    },
    {
      "cell_type": "code",
      "metadata": {
        "id": "RoGgi6rbMtwT",
        "colab_type": "code",
        "colab": {}
      },
      "source": [
        "aux0 = sc.fit_transform(titanic[['Idade','Tarifa']])\n",
        "aux1 = pd.DataFrame(aux0, columns = ['NIdade', 'NTarifa'])\n",
        "titanic = pd.concat([titanic, aux1], axis = 1)\n",
        "titanic.drop(['Idade', 'Tarifa'], axis = 1, inplace = True)"
      ],
      "execution_count": 70,
      "outputs": []
    },
    {
      "cell_type": "code",
      "metadata": {
        "id": "JKOyr1zk0HJR",
        "colab_type": "code",
        "colab": {}
      },
      "source": [
        "aux0 = sc.fit_transform(teste[['Idade', 'Tarifa']])\n",
        "aux1 = pd.DataFrame(aux0, columns = ['NIdade', 'NTarifa'])\n",
        "teste = pd.concat([teste, aux1], axis = 1)\n",
        "teste.drop(['Idade', 'Tarifa'], axis = 1, inplace = True)"
      ],
      "execution_count": 71,
      "outputs": []
    },
    {
      "cell_type": "code",
      "metadata": {
        "id": "zs0XqiWN1ipZ",
        "colab_type": "code",
        "colab": {
          "base_uri": "https://localhost:8080/",
          "height": 198
        },
        "outputId": "9af7eb3a-e02d-40eb-f0e3-a3c151b8dbad"
      },
      "source": [
        "titanic.head()"
      ],
      "execution_count": 72,
      "outputs": [
        {
          "output_type": "execute_result",
          "data": {
            "text/html": [
              "<div>\n",
              "<style scoped>\n",
              "    .dataframe tbody tr th:only-of-type {\n",
              "        vertical-align: middle;\n",
              "    }\n",
              "\n",
              "    .dataframe tbody tr th {\n",
              "        vertical-align: top;\n",
              "    }\n",
              "\n",
              "    .dataframe thead th {\n",
              "        text-align: right;\n",
              "    }\n",
              "</style>\n",
              "<table border=\"1\" class=\"dataframe\">\n",
              "  <thead>\n",
              "    <tr style=\"text-align: right;\">\n",
              "      <th></th>\n",
              "      <th>Sobreviventes</th>\n",
              "      <th>Classe</th>\n",
              "      <th>Sexo</th>\n",
              "      <th>Familia</th>\n",
              "      <th>Parentes</th>\n",
              "      <th>Embarque_Q</th>\n",
              "      <th>Embarque_S</th>\n",
              "      <th>NIdade</th>\n",
              "      <th>NTarifa</th>\n",
              "    </tr>\n",
              "  </thead>\n",
              "  <tbody>\n",
              "    <tr>\n",
              "      <th>0</th>\n",
              "      <td>0</td>\n",
              "      <td>3</td>\n",
              "      <td>0</td>\n",
              "      <td>1</td>\n",
              "      <td>0</td>\n",
              "      <td>0</td>\n",
              "      <td>1</td>\n",
              "      <td>-0.587368</td>\n",
              "      <td>-0.502445</td>\n",
              "    </tr>\n",
              "    <tr>\n",
              "      <th>1</th>\n",
              "      <td>1</td>\n",
              "      <td>1</td>\n",
              "      <td>1</td>\n",
              "      <td>1</td>\n",
              "      <td>0</td>\n",
              "      <td>0</td>\n",
              "      <td>0</td>\n",
              "      <td>0.597733</td>\n",
              "      <td>0.786845</td>\n",
              "    </tr>\n",
              "    <tr>\n",
              "      <th>2</th>\n",
              "      <td>1</td>\n",
              "      <td>3</td>\n",
              "      <td>1</td>\n",
              "      <td>0</td>\n",
              "      <td>0</td>\n",
              "      <td>0</td>\n",
              "      <td>1</td>\n",
              "      <td>-0.291093</td>\n",
              "      <td>-0.488854</td>\n",
              "    </tr>\n",
              "    <tr>\n",
              "      <th>3</th>\n",
              "      <td>1</td>\n",
              "      <td>1</td>\n",
              "      <td>1</td>\n",
              "      <td>1</td>\n",
              "      <td>0</td>\n",
              "      <td>0</td>\n",
              "      <td>1</td>\n",
              "      <td>0.375526</td>\n",
              "      <td>0.420730</td>\n",
              "    </tr>\n",
              "    <tr>\n",
              "      <th>4</th>\n",
              "      <td>0</td>\n",
              "      <td>3</td>\n",
              "      <td>0</td>\n",
              "      <td>0</td>\n",
              "      <td>0</td>\n",
              "      <td>0</td>\n",
              "      <td>1</td>\n",
              "      <td>0.375526</td>\n",
              "      <td>-0.486337</td>\n",
              "    </tr>\n",
              "  </tbody>\n",
              "</table>\n",
              "</div>"
            ],
            "text/plain": [
              "   Sobreviventes  Classe  Sexo  ...  Embarque_S    NIdade   NTarifa\n",
              "0              0       3     0  ...           1 -0.587368 -0.502445\n",
              "1              1       1     1  ...           0  0.597733  0.786845\n",
              "2              1       3     1  ...           1 -0.291093 -0.488854\n",
              "3              1       1     1  ...           1  0.375526  0.420730\n",
              "4              0       3     0  ...           1  0.375526 -0.486337\n",
              "\n",
              "[5 rows x 9 columns]"
            ]
          },
          "metadata": {
            "tags": []
          },
          "execution_count": 72
        }
      ]
    },
    {
      "cell_type": "markdown",
      "metadata": {
        "id": "f1fx0x3S1wkF",
        "colab_type": "text"
      },
      "source": [
        "##Modelos"
      ]
    },
    {
      "cell_type": "code",
      "metadata": {
        "id": "7Lf5N7YP1yn9",
        "colab_type": "code",
        "colab": {}
      },
      "source": [
        "from sklearn.ensemble import RandomForestClassifier\n",
        "\n",
        "from sklearn.model_selection import cross_val_score\n",
        "from sklearn.model_selection import KFold"
      ],
      "execution_count": 73,
      "outputs": []
    },
    {
      "cell_type": "code",
      "metadata": {
        "id": "SAkOyItx1-38",
        "colab_type": "code",
        "colab": {}
      },
      "source": [
        "#Separando variável explicativa e variável resposta do treinamento\n",
        "\n",
        "X = titanic.drop('Sobreviventes', axis = 1)\n",
        "Y = titanic['Sobreviventes']"
      ],
      "execution_count": 74,
      "outputs": []
    },
    {
      "cell_type": "code",
      "metadata": {
        "id": "_9SvtK_e2jnk",
        "colab_type": "code",
        "colab": {}
      },
      "source": [
        "#Validação cruzada Leave One Out\n",
        "kf = KFold(n_splits = 20, shuffle = True)"
      ],
      "execution_count": 75,
      "outputs": []
    },
    {
      "cell_type": "markdown",
      "metadata": {
        "id": "Ddv64SoLglcO",
        "colab_type": "text"
      },
      "source": [
        "###Random Forest"
      ]
    },
    {
      "cell_type": "code",
      "metadata": {
        "id": "TH6H30mNgv9j",
        "colab_type": "code",
        "colab": {
          "base_uri": "https://localhost:8080/",
          "height": 399
        },
        "outputId": "9afe261e-9df0-4fb7-9b75-7c789bc04875"
      },
      "source": [
        "#Encontrando o melhor valor do 'max_depth' através de validação cruzada K-FOLD Leave-One-Out\n",
        "\n",
        "from sklearn.model_selection import GridSearchCV\n",
        "\n",
        "valores = np.arange(2,21,2)\n",
        "parametros = {'max_depth': valores}\n",
        "\n",
        "clf = GridSearchCV(RandomForestClassifier(), param_grid = parametros, cv = kf, scoring = 'accuracy')\n",
        "clf.fit(X,Y)"
      ],
      "execution_count": 76,
      "outputs": [
        {
          "output_type": "execute_result",
          "data": {
            "text/plain": [
              "GridSearchCV(cv=KFold(n_splits=20, random_state=None, shuffle=True),\n",
              "             error_score=nan,\n",
              "             estimator=RandomForestClassifier(bootstrap=True, ccp_alpha=0.0,\n",
              "                                              class_weight=None,\n",
              "                                              criterion='gini', max_depth=None,\n",
              "                                              max_features='auto',\n",
              "                                              max_leaf_nodes=None,\n",
              "                                              max_samples=None,\n",
              "                                              min_impurity_decrease=0.0,\n",
              "                                              min_impurity_split=None,\n",
              "                                              min_samples_leaf=1,\n",
              "                                              min_samples_split=2,\n",
              "                                              min_weight_fraction_leaf=0.0,\n",
              "                                              n_estimators=100, n_jobs=None,\n",
              "                                              oob_score=False,\n",
              "                                              random_state=None, verbose=0,\n",
              "                                              warm_start=False),\n",
              "             iid='deprecated', n_jobs=None,\n",
              "             param_grid={'max_depth': array([ 2,  4,  6,  8, 10, 12, 14, 16, 18, 20])},\n",
              "             pre_dispatch='2*n_jobs', refit=True, return_train_score=False,\n",
              "             scoring='accuracy', verbose=0)"
            ]
          },
          "metadata": {
            "tags": []
          },
          "execution_count": 76
        }
      ]
    },
    {
      "cell_type": "code",
      "metadata": {
        "id": "7lLKMDVxh3lQ",
        "colab_type": "code",
        "colab": {
          "base_uri": "https://localhost:8080/",
          "height": 35
        },
        "outputId": "afb8c864-5643-428f-85a0-bea01b5a2b4a"
      },
      "source": [
        "#melhor 'max_depth'\n",
        "clf.best_params_"
      ],
      "execution_count": 77,
      "outputs": [
        {
          "output_type": "execute_result",
          "data": {
            "text/plain": [
              "{'max_depth': 8}"
            ]
          },
          "metadata": {
            "tags": []
          },
          "execution_count": 77
        }
      ]
    },
    {
      "cell_type": "code",
      "metadata": {
        "id": "Pd9TsOBLiACe",
        "colab_type": "code",
        "colab": {
          "base_uri": "https://localhost:8080/",
          "height": 265
        },
        "outputId": "920cdb8b-66f7-4f53-fd75-6aa1dfd20d5f"
      },
      "source": [
        "# gráfico de todos as acurácias obtidas no GridSearch\n",
        "\n",
        "import matplotlib.pyplot as plt\n",
        "\n",
        "accs = clf.cv_results_['mean_test_score']\n",
        "melhor = clf.best_params_.get('max_depth')\n",
        "\n",
        "plt.plot(valores, accs)\n",
        "plt.axhline(max(accs), color = 'black', linestyle = 'dotted')\n",
        "plt.axvline(melhor, color = 'black', linestyle = 'dotted')\n",
        "plt.show()"
      ],
      "execution_count": 78,
      "outputs": [
        {
          "output_type": "display_data",
          "data": {
            "image/png": "[encoded data removed]",
            "text/plain": [
              "<Figure size 432x288 with 1 Axes>"
            ]
          },
          "metadata": {
            "tags": []
          }
        }
      ]
    },
    {
      "cell_type": "code",
      "metadata": {
        "id": "mdW2EKEZiNbl",
        "colab_type": "code",
        "colab": {
          "base_uri": "https://localhost:8080/",
          "height": 35
        },
        "outputId": "65a6d875-297c-4cd5-b897-a45b3c967633"
      },
      "source": [
        "#verificando a performance\n",
        "\n",
        "modelo = RandomForestClassifier(max_depth = 8)\n",
        "accs_vc = cross_val_score(modelo, X, Y, cv = 10, scoring = 'accuracy')\n",
        " \n",
        "print('Acurácia do Random Forest: {:.2f}%'.format(100*accs_vc.mean()))"
      ],
      "execution_count": 79,
      "outputs": [
        {
          "output_type": "stream",
          "text": [
            "Acurácia do Random Forest: 83.28%\n"
          ],
          "name": "stdout"
        }
      ]
    },
    {
      "cell_type": "markdown",
      "metadata": {
        "id": "Bubd85oYWra-",
        "colab_type": "text"
      },
      "source": [
        "###Curva Roc"
      ]
    },
    {
      "cell_type": "code",
      "metadata": {
        "id": "yNvdsH8DQb9C",
        "colab_type": "code",
        "colab": {
          "base_uri": "https://localhost:8080/",
          "height": 35
        },
        "outputId": "c1e10b01-3baf-43fc-f498-bcc9a8abed3e"
      },
      "source": [
        "#Curva Roc\n",
        "\n",
        "A = titanic[['Embarque_Q', 'Embarque_S','NIdade','NTarifa','Parentes','Familia','Sexo','Classe']]\n",
        "B = titanic[['Sobreviventes']]\n",
        "\n",
        "from sklearn.model_selection import train_test_split\n",
        "\n",
        "A_train, A_test, B_train, B_test = train_test_split(A, B, test_size=0.30, stratify = titanic['Sobreviventes'], random_state=24)\n",
        "\n",
        "A_train.shape"
      ],
      "execution_count": 84,
      "outputs": [
        {
          "output_type": "execute_result",
          "data": {
            "text/plain": [
              "(623, 8)"
            ]
          },
          "metadata": {
            "tags": []
          },
          "execution_count": 84
        }
      ]
    },
    {
      "cell_type": "code",
      "metadata": {
        "id": "dIbuyIYdUBWv",
        "colab_type": "code",
        "colab": {}
      },
      "source": [
        "from sklearn.preprocessing import MinMaxScaler\n",
        "mmScaler = MinMaxScaler()\n",
        "A_train_scaled = mmScaler.fit_transform(A_train.values)\n",
        "A_test_scaled = mmScaler.fit_transform(A_test.values)\n",
        "\n",
        "A_train = pd.DataFrame(A_train_scaled, index=A_train.index, columns=A_train.columns)\n",
        "A_test = pd.DataFrame(A_test_scaled, index=A_test.index, columns=A_test.columns)"
      ],
      "execution_count": 85,
      "outputs": []
    },
    {
      "cell_type": "code",
      "metadata": {
        "id": "NrjuEtVNWu9V",
        "colab_type": "code",
        "colab": {
          "base_uri": "https://localhost:8080/",
          "height": 320
        },
        "outputId": "e49a804a-3aad-47db-b3d1-ecb1e7915cf4"
      },
      "source": [
        "B_test_pred = modelo.predict(A_test)\n",
        "\n",
        "#Confusion Matrix\n",
        "import matplotlib.pyplot as plt\n",
        "import seaborn as sns\n",
        "from sklearn.metrics import confusion_matrix\n",
        "\n",
        "cm = confusion_matrix(B_test, B_test_pred, labels=[1, 0])\n",
        "plt.figure(figsize = (7,5))\n",
        "sns.heatmap(cm, annot=True, square=True, fmt = \".2f\")\n",
        "plt.show()"
      ],
      "execution_count": 86,
      "outputs": [
        {
          "output_type": "display_data",
          "data": {
            "image/png": "[encoded data removed]",
            "text/plain": [
              "<Figure size 504x360 with 2 Axes>"
            ]
          },
          "metadata": {
            "tags": []
          }
        }
      ]
    },
    {
      "cell_type": "code",
      "metadata": {
        "id": "EQnupIq9ZJCT",
        "colab_type": "code",
        "colab": {
          "base_uri": "https://localhost:8080/",
          "height": 35
        },
        "outputId": "55793c74-e223-4a3f-fadb-863bcfeebc2c"
      },
      "source": [
        "TP = cm[1,1] # True Positive\n",
        "FN = cm[0,0] # False Negative\n",
        "FP = cm[0,1] # False Positive\n",
        "TN = cm[1,0] # True Negative\n",
        "\n",
        "from sklearn.metrics import roc_auc_score\n",
        "\n",
        "precision = TP/(TP+FP)\n",
        "recall = TP/(TP+FN)\n",
        "sensitivity = TP/(TP+FN)\n",
        "specificity = TN / (TN + FP)\n",
        "#Receiver Operator Characteristic Curve \n",
        "roc_auc_score(B_test, B_test_pred)"
      ],
      "execution_count": 87,
      "outputs": [
        {
          "output_type": "execute_result",
          "data": {
            "text/plain": [
              "0.43315681082671376"
            ]
          },
          "metadata": {
            "tags": []
          },
          "execution_count": 87
        }
      ]
    },
    {
      "cell_type": "code",
      "metadata": {
        "id": "ypopTZwpWqKJ",
        "colab_type": "code",
        "colab": {
          "base_uri": "https://localhost:8080/",
          "height": 354
        },
        "outputId": "40e7a0eb-7434-4a47-f586-a27bbd6158da"
      },
      "source": [
        "# Defining the function to plot the ROC curve\n",
        "from sklearn.metrics import roc_auc_score , roc_curve\n",
        "\n",
        "def draw_roc(B_test, B_test_pred ):\n",
        "    fpr, tpr, thresholds = roc_curve( B_test, B_test_pred,\n",
        "                                              drop_intermediate = False )\n",
        "    auc_score = roc_auc_score(B_test, B_test_pred)\n",
        "    plt.figure(figsize=(5, 5))\n",
        "    plt.plot( fpr, tpr, label='ROC curve (area = %0.2f)' % auc_score )\n",
        "    plt.plot([0, 1], [0, 1], 'k--')\n",
        "    plt.xlim([0.0, 1.0])\n",
        "    plt.ylim([0.0, 1.05])\n",
        "    plt.xlabel('False Positive Rate or [1 - True Negative Rate]')\n",
        "    plt.ylabel('True Positive Rate')\n",
        "    plt.title('Receiver operating characteristic curve')\n",
        "    plt.legend(loc=\"lower right\")\n",
        "    plt.show()\n",
        "\n",
        "    return None\n",
        "\n",
        "# Calling the function\n",
        "draw_roc(B_test, B_test_pred)\n",
        "  "
      ],
      "execution_count": 88,
      "outputs": [
        {
          "output_type": "display_data",
          "data": {
            "image/png": "[encoded data removed]",
            "text/plain": [
              "<Figure size 360x360 with 1 Axes>"
            ]
          },
          "metadata": {
            "tags": []
          }
        }
      ]
    },
    {
      "cell_type": "markdown",
      "metadata": {
        "id": "hj7HL1Dd3Ehh",
        "colab_type": "text"
      },
      "source": [
        "##Preparando o csv pa submeter o modelo ao Kaggle"
      ]
    },
    {
      "cell_type": "code",
      "metadata": {
        "id": "iVicE5j-jaKE",
        "colab_type": "code",
        "colab": {}
      },
      "source": [
        "modelo.fit(X,Y)\n",
        "pred = modelo.predict(teste)\n",
        "\n",
        "url = 'https://raw.githubusercontent.com/ricardorocha86/Datasets/master/Titanic/test.csv' \n",
        "subm = pd.read_csv(url, usecols = ['PassengerId'] )  \n",
        "subm['Survived'] = pred\n",
        "\n",
        "subm.to_csv('A_submissao.csv', index = False)"
      ],
      "execution_count": 80,
      "outputs": []
    }
  ]
}